{
 "cells": [
  {
   "cell_type": "code",
   "execution_count": 1,
   "id": "7fa9ef30",
   "metadata": {},
   "outputs": [],
   "source": [
    "import numpy as np"
   ]
  },
  {
   "cell_type": "code",
   "execution_count": null,
   "id": "ade915e6",
   "metadata": {},
   "outputs": [],
   "source": []
  },
  {
   "cell_type": "code",
   "execution_count": 24,
   "id": "42802c45",
   "metadata": {},
   "outputs": [
    {
     "name": "stdout",
     "output_type": "stream",
     "text": [
      "(8, 24)\n",
      "[[0.77132064 0.02075195 0.63364823 0.74880388]\n",
      " [0.49850701 0.22479665 0.19806286 0.76053071]\n",
      " [0.16911084 0.08833981 0.68535982 0.95339335]]\n"
     ]
    }
   ],
   "source": [
    "np.random.seed(10)\n",
    "A = np.asfortranarray(np.random.rand(3, 4)).astype(\"float64\")\n",
    "print(A.strides)\n",
    "print(A)"
   ]
  },
  {
   "cell_type": "code",
   "execution_count": 31,
   "id": "09704ad2",
   "metadata": {},
   "outputs": [
    {
     "name": "stdout",
     "output_type": "stream",
     "text": [
      "(8, 4)\n",
      "[[0.77132064 0.02075195]\n",
      " [0.6336482  0.74880385]\n",
      " [0.49850702 0.22479665]]\n"
     ]
    }
   ],
   "source": [
    "np.random.seed(10)\n",
    "A = np.random.rand(3, 2).astype(\"float32\")\n",
    "print(A.strides)\n",
    "print(A)"
   ]
  },
  {
   "cell_type": "code",
   "execution_count": null,
   "id": "44b90049",
   "metadata": {},
   "outputs": [],
   "source": []
  }
 ],
 "metadata": {
  "kernelspec": {
   "display_name": "corrcal_dev",
   "language": "python",
   "name": "python3"
  },
  "language_info": {
   "codemirror_mode": {
    "name": "ipython",
    "version": 3
   },
   "file_extension": ".py",
   "mimetype": "text/x-python",
   "name": "python",
   "nbconvert_exporter": "python",
   "pygments_lexer": "ipython3",
   "version": "3.13.3"
  }
 },
 "nbformat": 4,
 "nbformat_minor": 5
}
