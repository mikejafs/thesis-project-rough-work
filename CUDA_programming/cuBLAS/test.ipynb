{
 "cells": [
  {
   "cell_type": "code",
   "execution_count": 3,
   "id": "d631616b",
   "metadata": {},
   "outputs": [],
   "source": [
    "import numpy as np\n",
    "block = np.array([[0.38192853, 0.2589291], [0.26951954, 0.94476944]])\n",
    "mat_block = np.array([[0.5120788, 0.15016438], [0.2573224, 0.46205142]])"
   ]
  },
  {
   "cell_type": "code",
   "execution_count": 4,
   "id": "86833fa2",
   "metadata": {},
   "outputs": [
    {
     "name": "stdout",
     "output_type": "stream",
     "text": [
      "[[0.26220576 0.17699062]\n",
      " [0.38112558 0.4770043 ]]\n"
     ]
    }
   ],
   "source": [
    "mat_mul = np.matmul(block, mat_block)\n",
    "print(mat_mul)"
   ]
  },
  {
   "cell_type": "code",
   "execution_count": null,
   "id": "daec41e6",
   "metadata": {},
   "outputs": [],
   "source": []
  }
 ],
 "metadata": {
  "kernelspec": {
   "display_name": "corrcal_dev",
   "language": "python",
   "name": "python3"
  },
  "language_info": {
   "codemirror_mode": {
    "name": "ipython",
    "version": 3
   },
   "file_extension": ".py",
   "mimetype": "text/x-python",
   "name": "python",
   "nbconvert_exporter": "python",
   "pygments_lexer": "ipython3",
   "version": "3.13.3"
  }
 },
 "nbformat": 4,
 "nbformat_minor": 5
}
