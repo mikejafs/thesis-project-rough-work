{
 "cells": [
  {
   "cell_type": "code",
   "execution_count": 6,
   "id": "43a72d8a",
   "metadata": {},
   "outputs": [
    {
     "ename": "AttributeError",
     "evalue": "module 'cupy_backends.cuda.libs.cublas' has no attribute 'hgemm'",
     "output_type": "error",
     "traceback": [
      "\u001b[31m---------------------------------------------------------------------------\u001b[39m",
      "\u001b[31mAttributeError\u001b[39m                            Traceback (most recent call last)",
      "\u001b[36mCell\u001b[39m\u001b[36m \u001b[39m\u001b[32mIn[6]\u001b[39m\u001b[32m, line 41\u001b[39m\n\u001b[32m     39\u001b[39m     A, B = blocks[i]\n\u001b[32m     40\u001b[39m     C = outputs[i]\n\u001b[32m---> \u001b[39m\u001b[32m41\u001b[39m     \u001b[43mdispatch_gemm\u001b[49m\u001b[43m(\u001b[49m\u001b[43mi\u001b[49m\u001b[43m,\u001b[49m\u001b[43m \u001b[49m\u001b[43mA\u001b[49m\u001b[43m,\u001b[49m\u001b[43m \u001b[49m\u001b[43mB\u001b[49m\u001b[43m,\u001b[49m\u001b[43m \u001b[49m\u001b[43mC\u001b[49m\u001b[43m,\u001b[49m\u001b[43m \u001b[49m\u001b[43mstreams\u001b[49m\u001b[43m[\u001b[49m\u001b[43mi\u001b[49m\u001b[43m]\u001b[49m\u001b[43m)\u001b[49m\n\u001b[32m     43\u001b[39m \u001b[38;5;66;03m# Synchronize all streams to ensure all GEMMs are finished\u001b[39;00m\n\u001b[32m     44\u001b[39m \u001b[38;5;28;01mfor\u001b[39;00m stream \u001b[38;5;129;01min\u001b[39;00m streams:\n",
      "\u001b[36mCell\u001b[39m\u001b[36m \u001b[39m\u001b[32mIn[6]\u001b[39m\u001b[32m, line 33\u001b[39m, in \u001b[36mdispatch_gemm\u001b[39m\u001b[34m(i, A, B, C, stream)\u001b[39m\n\u001b[32m     31\u001b[39m \u001b[38;5;28;01mdef\u001b[39;00m\u001b[38;5;250m \u001b[39m\u001b[34mdispatch_gemm\u001b[39m(i, A, B, C, stream):\n\u001b[32m     32\u001b[39m     \u001b[38;5;28;01mwith\u001b[39;00m stream:\n\u001b[32m---> \u001b[39m\u001b[32m33\u001b[39m         \u001b[43mcublas\u001b[49m\u001b[43m.\u001b[49m\u001b[43mhgemm\u001b[49m(handle, transA, transB, A.shape[\u001b[32m0\u001b[39m], B.shape[\u001b[32m1\u001b[39m], A.shape[\u001b[32m1\u001b[39m], \n\u001b[32m     34\u001b[39m                      alpha, A.data.ptr, A.shape[\u001b[32m0\u001b[39m], B.data.ptr, B.shape[\u001b[32m0\u001b[39m], \n\u001b[32m     35\u001b[39m                      beta, C.data.ptr, C.shape[\u001b[32m0\u001b[39m])\n",
      "\u001b[31mAttributeError\u001b[39m: module 'cupy_backends.cuda.libs.cublas' has no attribute 'hgemm'"
     ]
    }
   ],
   "source": [
    "import cupy as cp\n",
    "from cupy import cuda\n",
    "from cupy.cuda import cublas\n",
    "\n",
    "# Initialize cuBLAS handle\n",
    "handle = cublas.create()\n",
    "\n",
    "# Example setup: Create a list of blocks with varying dimensions (A, B matrices)\n",
    "blocks = [\n",
    "    (cp.random.randn(64, 32).astype(cp.float16), cp.random.randn(32, 64).astype(cp.float16)),\n",
    "    (cp.random.randn(128, 64).astype(cp.float16), cp.random.randn(64, 128).astype(cp.float16)),\n",
    "    (cp.random.randn(256, 128).astype(cp.float16), cp.random.randn(128, 256).astype(cp.float16)),\n",
    "    (cp.random.randn(512, 256).astype(cp.float16), cp.random.randn(256, 512).astype(cp.float16)),\n",
    "    # Add more blocks as needed...\n",
    "]\n",
    "\n",
    "# Create a list of output matrices\n",
    "outputs = [cp.zeros((A.shape[0], B.shape[1]), dtype=cp.float16) for A, B in blocks]\n",
    "\n",
    "# Define CUDA streams dynamically\n",
    "num_blocks = len(blocks)\n",
    "streams = [cp.cuda.Stream() for _ in range(num_blocks)]  # Create a stream for each block\n",
    "\n",
    "# Define GEMM parameters\n",
    "alpha = 1.0\n",
    "beta = 0.0\n",
    "transA = cublas.CUBLAS_OP_N  # No transpose for A\n",
    "transB = cublas.CUBLAS_OP_N  # No transpose for B\n",
    "\n",
    "# Function to dispatch GEMM for each block in parallel\n",
    "def dispatch_gemm(i, A, B, C, stream):\n",
    "    with stream:\n",
    "        cublas.hgemm(handle, transA, transB, A.shape[0], B.shape[1], A.shape[1], \n",
    "                     alpha, A.data.ptr, A.shape[0], B.data.ptr, B.shape[0], \n",
    "                     beta, C.data.ptr, C.shape[0])\n",
    "\n",
    "# Dispatch work for each block in parallel using streams\n",
    "for i in range(num_blocks):\n",
    "    A, B = blocks[i]\n",
    "    C = outputs[i]\n",
    "    dispatch_gemm(i, A, B, C, streams[i])\n",
    "\n",
    "# Synchronize all streams to ensure all GEMMs are finished\n",
    "for stream in streams:\n",
    "    stream.synchronize()\n",
    "\n",
    "# At this point, `outputs` contains the results of all matrix multiplications\n",
    "for C in outputs:\n",
    "    print(C)\n"
   ]
  },
  {
   "cell_type": "code",
   "execution_count": null,
   "id": "b68b0c5b",
   "metadata": {},
   "outputs": [],
   "source": []
  }
 ],
 "metadata": {
  "kernelspec": {
   "display_name": "corrcal_dev",
   "language": "python",
   "name": "python3"
  },
  "language_info": {
   "codemirror_mode": {
    "name": "ipython",
    "version": 3
   },
   "file_extension": ".py",
   "mimetype": "text/x-python",
   "name": "python",
   "nbconvert_exporter": "python",
   "pygments_lexer": "ipython3",
   "version": "3.13.3"
  }
 },
 "nbformat": 4,
 "nbformat_minor": 5
}
