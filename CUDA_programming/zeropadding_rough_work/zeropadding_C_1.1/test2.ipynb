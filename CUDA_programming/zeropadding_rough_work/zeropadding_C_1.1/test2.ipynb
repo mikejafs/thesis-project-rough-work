{
 "cells": [
  {
   "cell_type": "code",
   "execution_count": 2,
   "metadata": {},
   "outputs": [],
   "source": [
    "import numpy as np\n"
   ]
  },
  {
   "cell_type": "code",
   "execution_count": 3,
   "metadata": {},
   "outputs": [
    {
     "name": "stdout",
     "output_type": "stream",
     "text": [
      "[0 1 2 3 4]\n",
      "5\n"
     ]
    }
   ],
   "source": [
    "x = np.arange(5)\n",
    "print(x)\n",
    "print(len(x))"
   ]
  },
  {
   "cell_type": "code",
   "execution_count": 16,
   "metadata": {},
   "outputs": [
    {
     "name": "stdout",
     "output_type": "stream",
     "text": [
      "int64\n"
     ]
    }
   ],
   "source": [
    "rand = np.random.randint(1, 10, size = 10)\n",
    "print(rand.dtype)"
   ]
  },
  {
   "cell_type": "code",
   "execution_count": 19,
   "metadata": {},
   "outputs": [
    {
     "name": "stdout",
     "output_type": "stream",
     "text": [
      "float64\n"
     ]
    }
   ],
   "source": [
    "rand2 = np.random.rand(10)\n",
    "print(rand2.dtype)"
   ]
  },
  {
   "cell_type": "code",
   "execution_count": 40,
   "metadata": {},
   "outputs": [
    {
     "name": "stdout",
     "output_type": "stream",
     "text": [
      "[0.02961767 0.74576548 0.81055087 0.05066669 0.37660679 0.35582754\n",
      " 0.77877796 0.23553758 0.43802    0.55986637 0.22417692 0.47021826\n",
      " 0.36591099 0.86033735 0.2918929  0.07863226 0.23342289 0.52745713\n",
      " 0.10097659 0.80588586]\n",
      "int64\n",
      "int64\n",
      "[ 0  3  4  9 10 15 20]\n"
     ]
    }
   ],
   "source": [
    "n_bl = 20\n",
    "array = np.random.rand(n_bl)\n",
    "print(array)\n",
    "edges = np.unique(np.random.randint(1, n_bl - 1, size = 5))\n",
    "edges = np.concatenate((np.array([0]), edges, np.array([n_bl])))\n",
    "print(edges.dtype)\n",
    "print(np.diff(edges).max().dtype)\n",
    "print(edges)"
   ]
  },
  {
   "cell_type": "code",
   "execution_count": 43,
   "metadata": {},
   "outputs": [
    {
     "name": "stdout",
     "output_type": "stream",
     "text": [
      "float64\n"
     ]
    }
   ],
   "source": [
    "zeros = np.zeros(10, dtype=np.double)\n",
    "print(zeros.dtype)"
   ]
  }
 ],
 "metadata": {
  "kernelspec": {
   "display_name": "Python 3",
   "language": "python",
   "name": "python3"
  },
  "language_info": {
   "codemirror_mode": {
    "name": "ipython",
    "version": 3
   },
   "file_extension": ".py",
   "mimetype": "text/x-python",
   "name": "python",
   "nbconvert_exporter": "python",
   "pygments_lexer": "ipython3",
   "version": "3.10.12"
  }
 },
 "nbformat": 4,
 "nbformat_minor": 2
}
