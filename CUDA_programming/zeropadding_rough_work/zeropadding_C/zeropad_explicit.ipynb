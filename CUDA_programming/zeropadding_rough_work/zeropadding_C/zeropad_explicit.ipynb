{
 "cells": [
  {
   "cell_type": "markdown",
   "metadata": {},
   "source": [
    "Explicit zeropad functions $\\Rightarrow$ preparing for C logic"
   ]
  },
  {
   "cell_type": "code",
   "execution_count": 8,
   "metadata": {},
   "outputs": [],
   "source": [
    "import numpy as np"
   ]
  },
  {
   "cell_type": "code",
   "execution_count": 87,
   "metadata": {},
   "outputs": [],
   "source": [
    "def zeropad1_0(array, edges, xp):\n",
    "\n",
    "    largest_block = xp.diff(edges).max()\n",
    "    n_blocks = edges.size - 1\n",
    "\n",
    "    if array.ndim == 1:   #should only be the case for the noise matrix\n",
    "        out = xp.zeros((n_blocks, int(largest_block)))\n",
    "    else:\n",
    "        out  = xp.zeros((n_blocks, int(largest_block), int(array.shape[1])))\n",
    "\n",
    "    for block, (start, stop) in enumerate(zip(edges, edges[1:])):\n",
    "        start, stop = int(start), int(stop)\n",
    "        out[block, :stop - start] = array[start:stop]\n",
    "    \n",
    "    return out"
   ]
  },
  {
   "cell_type": "code",
   "execution_count": 88,
   "metadata": {},
   "outputs": [],
   "source": [
    "def zeropad1_1(array, edges, xp):\n",
    "    #assuming only works for a 1d array for now\n",
    "\n",
    "    largest_block = xp.diff(edges).max()\n",
    "    n_blocks = edges.size - 1\n",
    "\n",
    "    if array.ndim == 1:   #should only be the case for the noise matrix\n",
    "        out = xp.zeros((n_blocks, int(largest_block)))\n",
    "    else:\n",
    "        out  = xp.zeros((n_blocks, int(largest_block), int(array.shape[1])))\n",
    "\n",
    "    for block in range(n_blocks):\n",
    "        start = edges[block]\n",
    "        stop = edges[block + 1]\n",
    "        block_size = stop - start\n",
    "\n",
    "        for i in range(block_size):\n",
    "            out[block][i] = array[start + i]\n",
    "\n",
    "    return out"
   ]
  },
  {
   "cell_type": "code",
   "execution_count": 5,
   "metadata": {},
   "outputs": [],
   "source": [
    "def zeropad2d(array, edges, xp):\n",
    "    #assuming only works for a 1d array for now\n",
    "\n",
    "    largest_block = xp.diff(edges).max()\n",
    "    n_blocks = edges.size - 1\n",
    "\n",
    "    # if array.ndim == 1:   #should only be the case for the noise matrix\n",
    "    #     out = xp.zeros((n_blocks, int(largest_block)))\n",
    "    # else:\n",
    "    out  = xp.zeros((n_blocks, int(largest_block), int(array.shape[1])))\n",
    "\n",
    "    for block in range(n_blocks):\n",
    "        start = edges[block]\n",
    "        stop = edges[block + 1]\n",
    "        block_size = stop - start\n",
    "\n",
    "        for i in range(block_size):\n",
    "            for j in range(array.shape[1]):\n",
    "                out[block][i][j] = array[start + i][j]\n",
    "\n",
    "    return out"
   ]
  },
  {
   "cell_type": "code",
   "execution_count": 30,
   "metadata": {},
   "outputs": [
    {
     "name": "stdout",
     "output_type": "stream",
     "text": [
      "[[1 1]\n",
      " [2 2]\n",
      " [3 3]\n",
      " [4 4]]\n",
      "[1 1 2 2 3 3 4 4]\n",
      "1\n",
      "1\n",
      "2\n",
      "2\n",
      "3\n",
      "3\n",
      "4\n",
      "4\n",
      "(8, 32)\n"
     ]
    }
   ],
   "source": [
    "a = np.array([[1, 2, 3, 4],\n",
    "              [1, 2, 3, 4]]).T\n",
    "print(a)\n",
    "ar = a.reshape(8)\n",
    "print(ar)\n",
    "for i in range(a.shape[0]):\n",
    "    for j in range(a.shape[1]):\n",
    "        print(ar[i*2 + j])\n",
    "\n",
    "print(a.strides)\n"
   ]
  },
  {
   "cell_type": "code",
   "execution_count": 18,
   "metadata": {},
   "outputs": [
    {
     "name": "stdout",
     "output_type": "stream",
     "text": [
      "(4,)\n",
      "(10, 2)\n",
      "[[[ 1.  1.]\n",
      "  [ 2.  2.]\n",
      "  [ 0.  0.]\n",
      "  [ 0.  0.]\n",
      "  [ 0.  0.]]\n",
      "\n",
      " [[ 3.  3.]\n",
      "  [ 4.  4.]\n",
      "  [ 5.  5.]\n",
      "  [ 0.  0.]\n",
      "  [ 0.  0.]]\n",
      "\n",
      " [[ 6.  6.]\n",
      "  [ 7.  7.]\n",
      "  [ 8.  8.]\n",
      "  [ 9.  9.]\n",
      "  [10. 10.]]]\n",
      "[[ 1  1]\n",
      " [ 2  2]\n",
      " [ 3  3]\n",
      " [ 4  4]\n",
      " [ 5  5]\n",
      " [ 6  6]\n",
      " [ 7  7]\n",
      " [ 8  8]\n",
      " [ 9  9]\n",
      " [10 10]]\n"
     ]
    }
   ],
   "source": [
    "test_array = np.array([[1, 2, 3, 4, 5, 6, 7, 8, 9, 10], \n",
    "                      [1, 2, 3, 4, 5, 6, 7, 8, 9, 10]]).T\n",
    "edges = np.array([0, 2, 5, 10])\n",
    "\n",
    "zp_array = zeropad2d(test_array, edges=edges, xp=np)\n",
    "\n",
    "print(edges.shape)\n",
    "print(test_array.shape)\n",
    "# print(test_array[1][1])\n",
    "\n",
    "print(zp_array)\n",
    "print(test_array)"
   ]
  },
  {
   "cell_type": "code",
   "execution_count": 89,
   "metadata": {},
   "outputs": [
    {
     "name": "stdout",
     "output_type": "stream",
     "text": [
      "[0.43396076 0.36697908 0.52108625 0.4219875  0.73230306 0.12678785\n",
      " 0.18842986 0.11617267 0.99220404 0.54639744]\n",
      "[ 0  5  7  8 10]\n",
      "[[0.43396076 0.36697908 0.52108625 0.4219875  0.73230306]\n",
      " [0.12678785 0.18842986 0.         0.         0.        ]\n",
      " [0.11617267 0.         0.         0.         0.        ]\n",
      " [0.99220404 0.54639744 0.         0.         0.        ]]\n",
      "\n",
      "5\n",
      "\n",
      "5\n",
      "\n",
      "4\n",
      "\n",
      "20\n",
      "5\n",
      "[[0.43396076 0.36697908 0.52108625 0.4219875  0.73230306 0.12678785\n",
      "  0.18842986 0.         0.         0.         0.11617267 0.\n",
      "  0.         0.         0.         0.99220404 0.54639744 0.\n",
      "  0.         0.        ]]\n"
     ]
    }
   ],
   "source": [
    "xp = np\n",
    "n_bls = 10\n",
    "edges = xp.unique(xp.random.randint(1, n_bls-1, size = 3))\n",
    "edges = xp.concatenate((np.array([0]), edges, np.array([n_bls])))\n",
    "\n",
    "array = np.random.rand(n_bls)\n",
    "# array = np.arange(n_bls)\n",
    "\n",
    "print(array)\n",
    "print(edges)\n",
    "\n",
    "zeropadded_array = zeropad1_1(array, edges, xp = np)\n",
    "\n",
    "print(zeropadded_array)\n",
    "print()\n",
    "print(np.diff(edges).max())\n",
    "print()\n",
    "print(len(edges - 2))\n",
    "print()\n",
    "print(edges.shape[0] - 1)\n",
    "print()\n",
    "print(int(np.diff(edges).max()) * int(edges.shape[0] - 1))\n",
    "print(np.diff(edges).max())\n",
    "print(zeropadded_array.reshape(1, int(np.diff(edges).max()) * int(edges.shape[0] - 1)))\n"
   ]
  },
  {
   "cell_type": "code",
   "execution_count": 14,
   "metadata": {},
   "outputs": [
    {
     "name": "stdout",
     "output_type": "stream",
     "text": [
      "[0]\n"
     ]
    }
   ],
   "source": [
    "print(np.array([0]))"
   ]
  },
  {
   "cell_type": "code",
   "execution_count": 9,
   "metadata": {},
   "outputs": [
    {
     "name": "stdout",
     "output_type": "stream",
     "text": [
      "[2 1 7 7 3 2 9 3 5 1]\n"
     ]
    }
   ],
   "source": [
    "x = np.random.randint(1, 10, 10)\n",
    "\n",
    "print(x)"
   ]
  },
  {
   "cell_type": "code",
   "execution_count": 4,
   "metadata": {},
   "outputs": [
    {
     "name": "stdout",
     "output_type": "stream",
     "text": [
      "[1 2]\n"
     ]
    }
   ],
   "source": [
    "array = np.array([1,2,3,4,5,6,7,8])\n",
    "\n",
    "print(array[:4-2])"
   ]
  },
  {
   "cell_type": "code",
   "execution_count": null,
   "metadata": {},
   "outputs": [],
   "source": []
  }
 ],
 "metadata": {
  "kernelspec": {
   "display_name": "Python 3",
   "language": "python",
   "name": "python3"
  },
  "language_info": {
   "codemirror_mode": {
    "name": "ipython",
    "version": 3
   },
   "file_extension": ".py",
   "mimetype": "text/x-python",
   "name": "python",
   "nbconvert_exporter": "python",
   "pygments_lexer": "ipython3",
   "version": "3.10.12"
  }
 },
 "nbformat": 4,
 "nbformat_minor": 2
}
