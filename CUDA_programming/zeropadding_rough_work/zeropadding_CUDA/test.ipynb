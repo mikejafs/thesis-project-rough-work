{
 "cells": [
  {
   "cell_type": "code",
   "execution_count": 2,
   "metadata": {},
   "outputs": [],
   "source": [
    "import numpy as np"
   ]
  },
  {
   "cell_type": "code",
   "execution_count": 5,
   "metadata": {},
   "outputs": [
    {
     "name": "stdout",
     "output_type": "stream",
     "text": [
      "(10,)\n",
      "10\n"
     ]
    }
   ],
   "source": [
    "arr = np.random.rand(10)\n",
    "print(arr.shape)\n",
    "print(arr.shape[0])"
   ]
  },
  {
   "cell_type": "code",
   "execution_count": 12,
   "metadata": {},
   "outputs": [
    {
     "name": "stdout",
     "output_type": "stream",
     "text": [
      "[ 1  2  3  4  5  6  7  0  9 10]\n"
     ]
    }
   ],
   "source": [
    "ar = np.array([1, 2, 3, 4, 5, 6, 7, 0.8, 9, 10], dtype = np.int32)\n",
    "print(ar)"
   ]
  },
  {
   "cell_type": "code",
   "execution_count": 7,
   "metadata": {},
   "outputs": [
    {
     "name": "stdout",
     "output_type": "stream",
     "text": [
      "[[0.65704436 0.51287056]\n",
      " [0.74021226 0.60150044]\n",
      " [0.32607802 0.64482033]\n",
      " [0.47608413 0.16770635]\n",
      " [0.12936525 0.99849377]\n",
      " [0.65886588 0.73263362]\n",
      " [0.62513028 0.66768149]\n",
      " [0.62658016 0.60220632]\n",
      " [0.31857893 0.14230961]\n",
      " [0.82617523 0.61730285]]\n",
      "(10, 2)\n",
      "[0.65704436 0.74021226 0.32607802 0.47608413 0.12936525 0.65886588\n",
      " 0.62513028 0.62658016 0.31857893 0.82617523 0.51287056 0.60150044\n",
      " 0.64482033 0.16770635 0.99849377 0.73263362 0.66768149 0.60220632\n",
      " 0.14230961 0.61730285]\n",
      "(20,)\n"
     ]
    }
   ],
   "source": [
    "ar = np.random.rand(10, 2)\n",
    "arFlat = ar.flatten(\"F\")\n",
    "print(ar)\n",
    "print(ar.shape)\n",
    "print(arFlat)\n",
    "print(arFlat.shape)"
   ]
  },
  {
   "cell_type": "code",
   "execution_count": 124,
   "metadata": {},
   "outputs": [
    {
     "name": "stdout",
     "output_type": "stream",
     "text": [
      "[[[ 1  2]\n",
      "  [ 3  4]\n",
      "  [ 5  6]\n",
      "  [ 7  8]]\n",
      "\n",
      " [[ 9 10]\n",
      "  [11 12]\n",
      "  [13 14]\n",
      "  [15 16]]\n",
      "\n",
      " [[17 18]\n",
      "  [19 20]\n",
      "  [21 22]\n",
      "  [23 24]]\n",
      "\n",
      " [[25 26]\n",
      "  [27 28]\n",
      "  [29 30]\n",
      "  [31 32]]]\n",
      "[[ 1  2]\n",
      " [ 3  4]\n",
      " [ 5  6]\n",
      " [ 7  8]\n",
      " [ 9 10]\n",
      " [11 12]\n",
      " [13 14]\n",
      " [15 16]\n",
      " [17 18]\n",
      " [19 20]\n",
      " [21 22]\n",
      " [23 24]\n",
      " [25 26]\n",
      " [27 28]\n",
      " [29 30]\n",
      " [31 32]]\n",
      "[ 1  2  3  4  5  6  7  8  9 10 11 12 13 14 15 16 17 18 19 20 21 22 23 24\n",
      " 25 26 27 28 29 30 31 32]\n"
     ]
    }
   ],
   "source": [
    "arr3d = np.linspace(1, 32, 32, dtype=\"int32\")\n",
    "arr3d = arr3d.reshape(4, 4, 2)\n",
    "arr2d = arr3d.reshape(16, 2)\n",
    "flatArr = arr3d.flatten()\n",
    "print(arr3d)\n",
    "print(arr2d)\n",
    "print(flatArr)"
   ]
  },
  {
   "cell_type": "code",
   "execution_count": 126,
   "metadata": {},
   "outputs": [
    {
     "name": "stdout",
     "output_type": "stream",
     "text": [
      "[ 1  2  3  4  5  6  7  8  9 10 11 12 13 14 15 16 17 18 19 20 21 22 23 24\n",
      " 25 26 27 28 29 30 31 32]\n",
      "[[[ 1  2]\n",
      "  [ 3  4]\n",
      "  [ 5  6]\n",
      "  [ 7  8]]\n",
      "\n",
      " [[ 9 10]\n",
      "  [11 12]\n",
      "  [13 14]\n",
      "  [15 16]]\n",
      "\n",
      " [[17 18]\n",
      "  [19 20]\n",
      "  [21 22]\n",
      "  [23 24]]\n",
      "\n",
      " [[25 26]\n",
      "  [27 28]\n",
      "  [29 30]\n",
      "  [31 32]]]\n",
      "1\n",
      "2\n",
      "3\n",
      "4\n",
      "5\n",
      "6\n",
      "7\n",
      "8\n",
      "9\n",
      "10\n",
      "11\n",
      "12\n",
      "13\n",
      "14\n",
      "15\n",
      "16\n",
      "17\n",
      "18\n",
      "19\n",
      "20\n",
      "21\n",
      "22\n",
      "23\n",
      "24\n",
      "25\n",
      "26\n",
      "27\n",
      "28\n",
      "29\n",
      "30\n",
      "31\n",
      "32\n"
     ]
    }
   ],
   "source": [
    "n_blocks = arr3d.shape[0]   #this is similar to the 'depth' entry\n",
    "n_cols = arr3d.shape[2]\n",
    "n_rows = arr3d.shape[1]\n",
    "\n",
    "\n",
    "print(flatArr)\n",
    "print(arr3d)\n",
    "for block in range(n_blocks):\n",
    "    for row in range(n_rows):\n",
    "        for col in range(n_cols):\n",
    "            print(flatArr[n_cols*(block*n_rows + row) + col])\n",
    "\n"
   ]
  },
  {
   "cell_type": "code",
   "execution_count": 107,
   "metadata": {},
   "outputs": [
    {
     "name": "stdout",
     "output_type": "stream",
     "text": [
      "(9000000,)\n",
      "2.8698441982269287\n"
     ]
    }
   ],
   "source": [
    "import time\n",
    "stride = 3000\n",
    "test_arr = np.random.rand(stride,stride)\n",
    "test_arr = test_arr.flatten()\n",
    "\n",
    "init_arr = np.zeros((test_arr.shape))\n",
    "print(init_arr.shape)\n",
    "\n",
    "starttime = time.time()\n",
    "for rowid in range(stride):\n",
    "    for colid in range(stride):\n",
    "        init_arr[rowid*stride + colid] = test_arr[rowid*stride + colid]\n",
    "\n",
    "stoptime = time.time()\n",
    "print(stoptime - starttime)"
   ]
  },
  {
   "cell_type": "code",
   "execution_count": 109,
   "metadata": {},
   "outputs": [
    {
     "name": "stdout",
     "output_type": "stream",
     "text": [
      "(9000000,)\n",
      "3.08970308303833\n"
     ]
    }
   ],
   "source": [
    "import time\n",
    "stride = 3000\n",
    "test_arr = np.random.rand(stride,stride)\n",
    "test_arr = test_arr.flatten()\n",
    "\n",
    "init_arr = np.zeros((test_arr.shape))\n",
    "print(init_arr.shape)\n",
    "\n",
    "starttime = time.time()\n",
    "for colid in range(stride):\n",
    "    for rowid in range(stride):\n",
    "        init_arr[rowid*stride + colid] = test_arr[rowid*stride + colid]\n",
    "\n",
    "stoptime = time.time()\n",
    "print(stoptime - starttime)"
   ]
  },
  {
   "cell_type": "code",
   "execution_count": null,
   "metadata": {},
   "outputs": [],
   "source": []
  }
 ],
 "metadata": {
  "kernelspec": {
   "display_name": "Python 3",
   "language": "python",
   "name": "python3"
  },
  "language_info": {
   "codemirror_mode": {
    "name": "ipython",
    "version": 3
   },
   "file_extension": ".py",
   "mimetype": "text/x-python",
   "name": "python",
   "nbconvert_exporter": "python",
   "pygments_lexer": "ipython3",
   "version": "3.10.12"
  }
 },
 "nbformat": 4,
 "nbformat_minor": 2
}
