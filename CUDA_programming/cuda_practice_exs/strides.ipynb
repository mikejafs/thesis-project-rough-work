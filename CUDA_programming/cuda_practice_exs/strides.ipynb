{
 "cells": [
  {
   "cell_type": "code",
   "execution_count": 2,
   "metadata": {},
   "outputs": [],
   "source": [
    "import numpy as np"
   ]
  },
  {
   "cell_type": "code",
   "execution_count": 10,
   "metadata": {},
   "outputs": [
    {
     "name": "stdout",
     "output_type": "stream",
     "text": [
      "(32, 8)\n",
      "(48, 8)\n",
      "(4,)\n"
     ]
    }
   ],
   "source": [
    "arr1 = np.arange(16)\n",
    "arr2 = np.random.rand(4,4)\n",
    "arr3 = np.random.rand(10, 6)\n",
    "arr4 = np.linspace(0,10, dtype=\"float32\")\n",
    "arr1.reshape(4,4)\n",
    "print(arr2.strides)\n",
    "print(arr3.strides)\n",
    "print(arr4.strides)\n"
   ]
  },
  {
   "cell_type": "code",
   "execution_count": null,
   "metadata": {},
   "outputs": [],
   "source": [
    "\n"
   ]
  }
 ],
 "metadata": {
  "kernelspec": {
   "display_name": "Python 3",
   "language": "python",
   "name": "python3"
  },
  "language_info": {
   "codemirror_mode": {
    "name": "ipython",
    "version": 3
   },
   "file_extension": ".py",
   "mimetype": "text/x-python",
   "name": "python",
   "nbconvert_exporter": "python",
   "pygments_lexer": "ipython3",
   "version": "3.10.12"
  }
 },
 "nbformat": 4,
 "nbformat_minor": 2
}
