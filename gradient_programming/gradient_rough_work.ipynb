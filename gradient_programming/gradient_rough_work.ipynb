{
 "cells": [
  {
   "metadata": {},
   "cell_type": "markdown",
   "source": "# Gradient of the Likelihood Rough Work",
   "id": "ae246bc199036f52"
  },
  {
   "metadata": {},
   "cell_type": "markdown",
   "source": [
    "The main goal here is to lay out the framework for computing the gradient of the likelihood using the zeropadded framework I've been working on so far.\n",
    "\n",
    "As a side note, could be a useful to write a small class that helps with simulating paramters needed to feed throgh things like the upcoming gradient code and the covariance inverse etc..."
   ],
   "id": "aec69df6d34abd32"
  },
  {
   "metadata": {
    "ExecuteTime": {
     "end_time": "2025-03-06T03:54:52.051056Z",
     "start_time": "2025-03-06T03:54:52.044738Z"
    }
   },
   "cell_type": "code",
   "source": [
    "import os\n",
    "import sys\n",
    "from corrcal import SparseCov\n",
    "\n",
    "current_dir = os.getcwd()\n",
    "parent_dir = os.path.abspath(os.path.join(current_dir, '..', '..'))\n",
    "target_dir = os.path.join(parent_dir, 'corrcal_gpu_pipeline', 'pipeline')\n",
    "sys.path.insert(0, target_dir)"
   ],
   "id": "e1deb0925845224d",
   "outputs": [],
   "execution_count": 7
  },
  {
   "metadata": {
    "ExecuteTime": {
     "end_time": "2025-03-06T03:54:53.245244Z",
     "start_time": "2025-03-06T03:54:53.240835Z"
    }
   },
   "cell_type": "code",
   "source": [
    "from zp_puregpu_funcs_py import *\n",
    "import numpy as np\n",
    "import cupy as cp\n",
    "import corrcal"
   ],
   "id": "9226355bafd1a074",
   "outputs": [],
   "execution_count": 8
  },
  {
   "metadata": {
    "ExecuteTime": {
     "end_time": "2025-03-06T23:37:30.321550Z",
     "start_time": "2025-03-06T23:37:30.316688Z"
    }
   },
   "cell_type": "code",
   "source": "print(np.arange(5))",
   "id": "a15d589c609d8216",
   "outputs": [
    {
     "name": "stdout",
     "output_type": "stream",
     "text": [
      "[0 1 2 3 4]\n"
     ]
    }
   ],
   "execution_count": 35
  },
  {
   "metadata": {
    "ExecuteTime": {
     "end_time": "2025-03-07T02:06:42.471369Z",
     "start_time": "2025-03-07T02:06:42.464353Z"
    }
   },
   "cell_type": "code",
   "source": [
    "arr = np.arange(18)\n",
    "arr = arr.reshape(6,3)\n",
    "print(arr)\n",
    "print(np.sum(arr, axis=1))"
   ],
   "id": "877a93934bbea857",
   "outputs": [
    {
     "name": "stdout",
     "output_type": "stream",
     "text": [
      "[[ 0  1  2]\n",
      " [ 3  4  5]\n",
      " [ 6  7  8]\n",
      " [ 9 10 11]\n",
      " [12 13 14]\n",
      " [15 16 17]]\n",
      "[ 3 12 21 30 39 48]\n"
     ]
    }
   ],
   "execution_count": 42
  },
  {
   "metadata": {
    "ExecuteTime": {
     "end_time": "2025-03-07T02:29:43.728257Z",
     "start_time": "2025-03-07T02:29:43.722159Z"
    }
   },
   "cell_type": "code",
   "source": [
    "arr2 = np.arange(16)\n",
    "arr3 = arr2.reshape(8,2)\n",
    "arr2 = arr2.reshape(4, 2, 2)\n",
    "print(arr2)\n",
    "print(arr3)\n",
    "print(np.sum(arr3, axis=1))\n",
    "arr4 = np.sum(arr2, axis=2)\n",
    "print(arr4)\n",
    "print(arr4.reshape(2*4))"
   ],
   "id": "1ef20078c937bfec",
   "outputs": [
    {
     "name": "stdout",
     "output_type": "stream",
     "text": [
      "[[[ 0  1]\n",
      "  [ 2  3]]\n",
      "\n",
      " [[ 4  5]\n",
      "  [ 6  7]]\n",
      "\n",
      " [[ 8  9]\n",
      "  [10 11]]\n",
      "\n",
      " [[12 13]\n",
      "  [14 15]]]\n",
      "[[ 0  1]\n",
      " [ 2  3]\n",
      " [ 4  5]\n",
      " [ 6  7]\n",
      " [ 8  9]\n",
      " [10 11]\n",
      " [12 13]\n",
      " [14 15]]\n",
      "[ 1  5  9 13 17 21 25 29]\n",
      "[[ 1  5]\n",
      " [ 9 13]\n",
      " [17 21]\n",
      " [25 29]]\n",
      "[ 1  5  9 13 17 21 25 29]\n"
     ]
    }
   ],
   "execution_count": 57
  },
  {
   "metadata": {
    "ExecuteTime": {
     "end_time": "2025-03-07T02:22:16.618143Z",
     "start_time": "2025-03-07T02:22:16.609327Z"
    }
   },
   "cell_type": "code",
   "source": [
    "print(arr2**2)\n",
    "print(arr3**2)"
   ],
   "id": "cbb8c9270771d05f",
   "outputs": [
    {
     "name": "stdout",
     "output_type": "stream",
     "text": [
      "[[[  0   1]\n",
      "  [  4   9]]\n",
      "\n",
      " [[ 16  25]\n",
      "  [ 36  49]]\n",
      "\n",
      " [[ 64  81]\n",
      "  [100 121]]\n",
      "\n",
      " [[144 169]\n",
      "  [196 225]]]\n",
      "[[  0   1]\n",
      " [  4   9]\n",
      " [ 16  25]\n",
      " [ 36  49]\n",
      " [ 64  81]\n",
      " [100 121]\n",
      " [144 169]\n",
      " [196 225]]\n"
     ]
    }
   ],
   "execution_count": 53
  },
  {
   "metadata": {
    "ExecuteTime": {
     "end_time": "2025-03-07T04:52:45.261531Z",
     "start_time": "2025-03-07T04:52:45.224824Z"
    }
   },
   "cell_type": "code",
   "source": [
    "array = cp.arange(10)\n",
    "print(array//2)\n",
    "print(type(cp.asnumpy(array)))"
   ],
   "id": "c23793382fb65830",
   "outputs": [
    {
     "name": "stdout",
     "output_type": "stream",
     "text": [
      "[0 0 1 1 2 2 3 3 4 4]\n",
      "<class 'numpy.ndarray'>\n"
     ]
    }
   ],
   "execution_count": 61
  },
  {
   "metadata": {},
   "cell_type": "markdown",
   "source": "Testing to see whether I can eaily compare the existing code to what I'm about to write for the gradient calcuation and it looks like it should be pretty straightforward...",
   "id": "563d85b5ac5697d7"
  },
  {
   "metadata": {
    "ExecuteTime": {
     "end_time": "2025-03-06T03:59:06.727590Z",
     "start_time": "2025-03-06T03:59:06.721227Z"
    }
   },
   "cell_type": "code",
   "source": [
    "noise = np.random.rand(10)\n",
    "src = np.random.rand(10, 2)\n",
    "diffuse = np.random.rand(10, 3)\n",
    "data = np.random.rand(10,1)\n",
    "edges = np.array([0, 2, 6, 10])\n",
    "\n",
    "cov = SparseCov(noise,src, diffuse, edges, 3, isinv=False)"
   ],
   "id": "8d306044336163b2",
   "outputs": [],
   "execution_count": 19
  },
  {
   "metadata": {
    "ExecuteTime": {
     "end_time": "2025-03-06T04:02:24.721084Z",
     "start_time": "2025-03-06T04:02:24.499018Z"
    }
   },
   "cell_type": "code",
   "source": [
    "invc = cov.inv()\n",
    "print(cov.noise)\n",
    "print(invc.noise)\n",
    "\n",
    "p = invc@data\n",
    "print(p)\n",
    "\n",
    "print(invc.diff_mat)\n",
    "print(cov.diff_mat)\n",
    "print(1/0.86)"
   ],
   "id": "e50548cd9ae785b7",
   "outputs": [
    {
     "name": "stdout",
     "output_type": "stream",
     "text": [
      "[0.60183562 0.00521249 0.1144356  0.01229719 0.56802334 0.84614436\n",
      " 0.73455493 0.79159902 0.95521365 0.2137562 ]\n",
      "[  1.66158328 191.84703243   8.73853931  81.31939537   1.76049103\n",
      "   1.18183143   1.36136858   1.26326583   1.04688621   4.67822684]\n",
      "[[-0.12669745]\n",
      " [ 0.22193126]\n",
      " [-0.49095372]\n",
      " [ 0.15443552]\n",
      " [ 0.79130251]\n",
      " [-0.1667372 ]\n",
      " [ 0.7155757 ]\n",
      " [ 0.16295217]\n",
      " [ 0.18278741]\n",
      " [-0.65078683]]\n",
      "[[ 1.55063368e-01 -6.46780624e-01  2.33298533e-01]\n",
      " [ 1.36683209e+01  1.77115815e+00  4.55123269e-01]\n",
      " [ 1.57669419e-01  2.57547558e+00 -3.73847150e-01]\n",
      " [ 8.93304731e+00 -8.39466114e-02  5.50371490e-01]\n",
      " [ 2.45338841e-02  1.82439529e-01 -1.04037334e-01]\n",
      " [ 4.14336518e-02 -9.15318504e-02  6.65181755e-02]\n",
      " [ 2.17235722e-01  2.65100984e-01  1.93632792e-01]\n",
      " [ 6.34273696e-01  1.36044746e-03  1.07038621e-01]\n",
      " [ 5.18802432e-01 -1.38200924e-01 -1.72024120e-01]\n",
      " [ 4.50887161e-01  1.74482324e+00  5.59074875e-01]]\n",
      "[[0.86214971 0.22446397 0.85472876]\n",
      " [0.65819665 0.6805963  0.75664286]\n",
      " [0.15220258 0.98788364 0.08209234]\n",
      " [0.92665673 0.82373566 0.54077907]\n",
      " [0.11755629 0.40448726 0.01505396]\n",
      " [0.29574068 0.03992947 0.22338577]\n",
      " [0.27115653 0.55456095 0.73953101]\n",
      " [0.85319147 0.44266736 0.6321071 ]\n",
      " [0.84210661 0.15358663 0.010247  ]\n",
      " [0.16377633 0.87861923 0.98343601]]\n",
      "1.1627906976744187\n"
     ]
    }
   ],
   "execution_count": 31
  },
  {
   "metadata": {},
   "cell_type": "code",
   "outputs": [],
   "execution_count": null,
   "source": [
    "#pseudo-ish code to follow...\n",
    "\n",
    "\"\"\"\n",
    "Reminder to make smaller unit tests allong the way here. For example, before testing everything including the accumulate gradient function, construct all the p, q, s, and t matrices and compare to Bobby's code. Then proceed to testing new accumulate grad function against the full routine...\n",
    "\"\"\"\n",
    "\n",
    "#full grad function\n",
    "def grad_nll():\n",
    "    \"\"\"\n",
    "\n",
    "    \"\"\"\n",
    "\n",
    "    #0.5 zeropad EVERYTHING....\n",
    "\n",
    "    #1. apply gains to the source and diffuse matrices (ie. constructing the 'true' convariance)\n",
    "\n",
    "    #2. compute inverse cov components\n",
    "\n",
    "    #(I think) can roughly follow current python/C implimentation for the next few steps without much change\n",
    "\n",
    "    #3. Now compute p = C^-1 @ data => Might want to construct my own __matmul__ function for this\n",
    "\n",
    "    #4. compute q = (C - N) @ G.T @ p\n",
    "\n",
    "    #5. compute s and t\n",
    "\n",
    "    #6. compute the inverse power\n",
    "\n",
    "    #7. accumulate gradient\n",
    "\n",
    "        #nominally, k1, k2 indices are constructed from looping over ant_inds. This is problematic since\n",
    "        # ant_inds now do not follow the zeropadding scheme.\n",
    "\n",
    "        #SOLN: return a new ant_1_ind and ant_2_ind that correspond to the indices of the zeropadded matrices\n",
    "\n",
    "        #7.1.\n",
    "\n",
    "    return"
   ],
   "id": "eb9c8ef20a5ad856"
  },
  {
   "metadata": {
    "ExecuteTime": {
     "end_time": "2025-03-01T19:20:37.517267Z",
     "start_time": "2025-03-01T19:20:37.419330Z"
    }
   },
   "cell_type": "code",
   "source": [
    "edges = np.array([0, 3, 5, 12, 20])\n",
    "ant_inds = np.arange(20)\n",
    "zp_ant_inds, lb, nbs = zeroPad(ant_inds, edges=edges, return_inv=False)\n",
    "zp_ant_inds[1:] = np.where(zp_ant_inds[1:] ==0, np.nan, zp_ant_inds[1:])\n",
    "print(zp_ant_inds)\n",
    "print(lb)\n",
    "zp_ant_inds = zp_ant_inds.reshape(nbs, lb, 1)\n",
    "print(zp_ant_inds)"
   ],
   "id": "ebe2e71542030b77",
   "outputs": [
    {
     "name": "stdout",
     "output_type": "stream",
     "text": [
      "[ 0.  1.  2. nan nan nan nan nan  3.  4. nan nan nan nan nan nan  5.  6.\n",
      "  7.  8.  9. 10. 11. nan 12. 13. 14. 15. 16. 17. 18. 19.]\n",
      "8\n",
      "[[[ 0.]\n",
      "  [ 1.]\n",
      "  [ 2.]\n",
      "  [nan]\n",
      "  [nan]\n",
      "  [nan]\n",
      "  [nan]\n",
      "  [nan]]\n",
      "\n",
      " [[ 3.]\n",
      "  [ 4.]\n",
      "  [nan]\n",
      "  [nan]\n",
      "  [nan]\n",
      "  [nan]\n",
      "  [nan]\n",
      "  [nan]]\n",
      "\n",
      " [[ 5.]\n",
      "  [ 6.]\n",
      "  [ 7.]\n",
      "  [ 8.]\n",
      "  [ 9.]\n",
      "  [10.]\n",
      "  [11.]\n",
      "  [nan]]\n",
      "\n",
      " [[12.]\n",
      "  [13.]\n",
      "  [14.]\n",
      "  [15.]\n",
      "  [16.]\n",
      "  [17.]\n",
      "  [18.]\n",
      "  [19.]]]\n"
     ]
    }
   ],
   "execution_count": 34
  },
  {
   "metadata": {
    "ExecuteTime": {
     "end_time": "2025-03-06T23:10:23.118312Z",
     "start_time": "2025-03-06T23:10:22.500037Z"
    }
   },
   "cell_type": "code",
   "source": [
    "arr = np.arange(10)\n",
    "print(arr[np.nan])"
   ],
   "id": "f4cf6dfd986db6bb",
   "outputs": [
    {
     "ename": "IndexError",
     "evalue": "only integers, slices (`:`), ellipsis (`...`), numpy.newaxis (`None`) and integer or boolean arrays are valid indices",
     "output_type": "error",
     "traceback": [
      "\u001B[0;31m---------------------------------------------------------------------------\u001B[0m",
      "\u001B[0;31mIndexError\u001B[0m                                Traceback (most recent call last)",
      "Cell \u001B[0;32mIn[32], line 2\u001B[0m\n\u001B[1;32m      1\u001B[0m arr \u001B[38;5;241m=\u001B[39m np\u001B[38;5;241m.\u001B[39marange(\u001B[38;5;241m10\u001B[39m)\n\u001B[0;32m----> 2\u001B[0m \u001B[38;5;28mprint\u001B[39m(\u001B[43marr\u001B[49m\u001B[43m[\u001B[49m\u001B[43mnp\u001B[49m\u001B[38;5;241;43m.\u001B[39;49m\u001B[43mnan\u001B[49m\u001B[43m]\u001B[49m)\n",
      "\u001B[0;31mIndexError\u001B[0m: only integers, slices (`:`), ellipsis (`...`), numpy.newaxis (`None`) and integer or boolean arrays are valid indices"
     ]
    }
   ],
   "execution_count": 32
  },
  {
   "metadata": {},
   "cell_type": "code",
   "outputs": [],
   "execution_count": null,
   "source": "",
   "id": "8ce5775c9838716d"
  }
 ],
 "metadata": {
  "kernelspec": {
   "display_name": "Python 3",
   "language": "python",
   "name": "python3"
  },
  "language_info": {
   "codemirror_mode": {
    "name": "ipython",
    "version": 2
   },
   "file_extension": ".py",
   "mimetype": "text/x-python",
   "name": "python",
   "nbconvert_exporter": "python",
   "pygments_lexer": "ipython2",
   "version": "2.7.6"
  }
 },
 "nbformat": 4,
 "nbformat_minor": 5
}
