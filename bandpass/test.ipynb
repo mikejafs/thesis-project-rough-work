{
 "cells": [
  {
   "cell_type": "code",
   "execution_count": 4,
   "id": "f6c76472",
   "metadata": {},
   "outputs": [],
   "source": [
    "import os"
   ]
  },
  {
   "cell_type": "code",
   "execution_count": 12,
   "id": "1d121807",
   "metadata": {},
   "outputs": [
    {
     "data": {
      "text/plain": [
       "['test.ipynb', 'power_spectrum.ipynb']"
      ]
     },
     "execution_count": 12,
     "metadata": {},
     "output_type": "execute_result"
    }
   ],
   "source": [
    "os.listdir()\n",
    "\n",
    "\n",
    "# print(\"hello\")\n",
    "\n",
    "# print(\"My name is mike\")"
   ]
  },
  {
   "cell_type": "code",
   "execution_count": null,
   "id": "174b92f8",
   "metadata": {},
   "outputs": [
    {
     "name": "stdout",
     "output_type": "stream",
     "text": [
      "hello\n"
     ]
    }
   ],
   "source": []
  },
  {
   "cell_type": "code",
   "execution_count": 13,
   "id": "8b909176",
   "metadata": {},
   "outputs": [
    {
     "data": {
      "text/plain": [
       "'/home/mike/Thesis_rough_work/bandpass'"
      ]
     },
     "execution_count": 13,
     "metadata": {},
     "output_type": "execute_result"
    }
   ],
   "source": [
    "os.getcwd()"
   ]
  },
  {
   "cell_type": "code",
   "execution_count": 16,
   "id": "ffbce86c",
   "metadata": {},
   "outputs": [],
   "source": [
    "import numpy as np"
   ]
  },
  {
   "cell_type": "code",
   "execution_count": 20,
   "id": "ad810145",
   "metadata": {},
   "outputs": [
    {
     "name": "stdout",
     "output_type": "stream",
     "text": [
      "[1 2 3 4 5]\n",
      "[[1 2]\n",
      " [3 4]]\n"
     ]
    }
   ],
   "source": [
    "arr = np.array([1, 2, 3, 4, 5])\n",
    "arr2d = np.array([[1, 2], \n",
    "                  [3 , 4]])\n",
    "print(arr)\n",
    "print(arr2d)"
   ]
  },
  {
   "cell_type": "code",
   "execution_count": 29,
   "id": "c19e7832",
   "metadata": {},
   "outputs": [
    {
     "name": "stdout",
     "output_type": "stream",
     "text": [
      "[1 2 3 4]\n",
      "<class 'list'>\n",
      "<class 'numpy.ndarray'>\n"
     ]
    }
   ],
   "source": [
    "arr2d.flatten()\n",
    "print(arr2d.flatten())\n",
    "\n",
    "pythonarr = ([[1,2], [3,4]])\n",
    "print(type(pythonarr))\n",
    "print(type(arr2d))"
   ]
  },
  {
   "cell_type": "code",
   "execution_count": 32,
   "id": "46935d8d",
   "metadata": {},
   "outputs": [
    {
     "name": "stdout",
     "output_type": "stream",
     "text": [
      "2.5\n"
     ]
    }
   ],
   "source": [
    "print(arr2d.mean())"
   ]
  },
  {
   "cell_type": "code",
   "execution_count": 35,
   "id": "ec768b59",
   "metadata": {},
   "outputs": [
    {
     "ename": "AttributeError",
     "evalue": "'list' object has no attribute 'mean'",
     "output_type": "error",
     "traceback": [
      "\u001b[31m---------------------------------------------------------------------------\u001b[39m",
      "\u001b[31mAttributeError\u001b[39m                            Traceback (most recent call last)",
      "\u001b[36mCell\u001b[39m\u001b[36m \u001b[39m\u001b[32mIn[35]\u001b[39m\u001b[32m, line 1\u001b[39m\n\u001b[32m----> \u001b[39m\u001b[32m1\u001b[39m \u001b[38;5;28mprint\u001b[39m(\u001b[43mpythonarr\u001b[49m\u001b[43m.\u001b[49m\u001b[43mmean\u001b[49m())\n",
      "\u001b[31mAttributeError\u001b[39m: 'list' object has no attribute 'mean'"
     ]
    }
   ],
   "source": [
    "print(pythonarr.mean())"
   ]
  },
  {
   "cell_type": "code",
   "execution_count": 39,
   "id": "bc1baa75",
   "metadata": {},
   "outputs": [
    {
     "name": "stdout",
     "output_type": "stream",
     "text": [
      "True\n"
     ]
    }
   ],
   "source": [
    "print(2<=3)"
   ]
  },
  {
   "cell_type": "code",
   "execution_count": 40,
   "id": "8a282ff9",
   "metadata": {},
   "outputs": [],
   "source": [
    "import matplotlib.pyplot as plt"
   ]
  },
  {
   "cell_type": "code",
   "execution_count": null,
   "id": "a35ccdd1",
   "metadata": {},
   "outputs": [],
   "source": [
    "errors = np.array([...])\n",
    "means = np.array([...])\n",
    "plt.errorbar(x, yerr=errors)"
   ]
  },
  {
   "cell_type": "code",
   "execution_count": 43,
   "id": "da52cb8c",
   "metadata": {},
   "outputs": [
    {
     "name": "stdout",
     "output_type": "stream",
     "text": [
      "[ 0.          0.52631579  1.05263158  1.57894737  2.10526316  2.63157895\n",
      "  3.15789474  3.68421053  4.21052632  4.73684211  5.26315789  5.78947368\n",
      "  6.31578947  6.84210526  7.36842105  7.89473684  8.42105263  8.94736842\n",
      "  9.47368421 10.        ]\n"
     ]
    },
    {
     "data": {
      "text/plain": [
       "[<matplotlib.lines.Line2D at 0x7615454cf9d0>]"
      ]
     },
     "execution_count": 43,
     "metadata": {},
     "output_type": "execute_result"
    },
    {
     "data": {
      "image/png": "[encoded data removed]",
      "text/plain": [
       "<Figure size 640x480 with 1 Axes>"
      ]
     },
     "metadata": {},
     "output_type": "display_data"
    }
   ],
   "source": [
    "arr = np.linspace(0,10, 20)\n",
    "print(arr)\n",
    "plt.plot(arr, '.')"
   ]
  },
  {
   "cell_type": "code",
   "execution_count": null,
   "id": "8ed94094",
   "metadata": {},
   "outputs": [],
   "source": [
    "means = np.array([5.32, 4.97, ....])   "
   ]
  },
  {
   "cell_type": "code",
   "execution_count": 7,
   "id": "bc4939ca",
   "metadata": {},
   "outputs": [
    {
     "name": "stdout",
     "output_type": "stream",
     "text": [
      "38\n",
      "40.0\n",
      "5.263157894736842\n"
     ]
    }
   ],
   "source": [
    "q5 = 20 \n",
    "q4 = 16\n",
    "q1 = 2\n",
    "total = q5 + q4 + q1\n",
    "print(total)\n",
    "print(total/0.95)\n",
    "print(q1/total*100)\n",
    "\n",
    "#want q1 such that q1 is 5% of the total"
   ]
  }
 ],
 "metadata": {
  "kernelspec": {
   "display_name": "corrcal_dev",
   "language": "python",
   "name": "python3"
  },
  "language_info": {
   "codemirror_mode": {
    "name": "ipython",
    "version": 3
   },
   "file_extension": ".py",
   "mimetype": "text/x-python",
   "name": "python",
   "nbconvert_exporter": "python",
   "pygments_lexer": "ipython3",
   "version": "3.13.3"
  }
 },
 "nbformat": 4,
 "nbformat_minor": 5
}
