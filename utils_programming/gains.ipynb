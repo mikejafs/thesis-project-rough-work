{
 "cells": [
  {
   "cell_type": "markdown",
   "metadata": {},
   "source": [
    "### Figuring out how to apply gains to a matrix"
   ]
  },
  {
   "cell_type": "code",
   "metadata": {
    "ExecuteTime": {
     "end_time": "2025-02-28T02:28:30.640732Z",
     "start_time": "2025-02-28T02:28:30.621879Z"
    }
   },
   "source": [
    "import numpy as np\n",
    "import cupy as cp\n",
    "from typing import Sequence"
   ],
   "outputs": [
    {
     "ename": "ModuleNotFoundError",
     "evalue": "No module named 'numpy'",
     "output_type": "error",
     "traceback": [
      "\u001B[0;31m---------------------------------------------------------------------------\u001B[0m",
      "\u001B[0;31mModuleNotFoundError\u001B[0m                       Traceback (most recent call last)",
      "Cell \u001B[0;32mIn[1], line 1\u001B[0m\n\u001B[0;32m----> 1\u001B[0m \u001B[38;5;28;01mimport\u001B[39;00m\u001B[38;5;250m \u001B[39m\u001B[38;5;21;01mnumpy\u001B[39;00m\u001B[38;5;250m \u001B[39m\u001B[38;5;28;01mas\u001B[39;00m\u001B[38;5;250m \u001B[39m\u001B[38;5;21;01mnp\u001B[39;00m\n\u001B[1;32m      2\u001B[0m \u001B[38;5;28;01mimport\u001B[39;00m\u001B[38;5;250m \u001B[39m\u001B[38;5;21;01mcupy\u001B[39;00m\u001B[38;5;250m \u001B[39m\u001B[38;5;28;01mas\u001B[39;00m\u001B[38;5;250m \u001B[39m\u001B[38;5;21;01mcp\u001B[39;00m\n\u001B[1;32m      3\u001B[0m \u001B[38;5;28;01mfrom\u001B[39;00m\u001B[38;5;250m \u001B[39m\u001B[38;5;21;01mtyping\u001B[39;00m\u001B[38;5;250m \u001B[39m\u001B[38;5;28;01mimport\u001B[39;00m Sequence\n",
      "\u001B[0;31mModuleNotFoundError\u001B[0m: No module named 'numpy'"
     ]
    }
   ],
   "execution_count": 1
  },
  {
   "cell_type": "code",
   "metadata": {
    "ExecuteTime": {
     "end_time": "2024-12-28T05:22:54.308482Z",
     "start_time": "2024-12-28T05:22:54.300755Z"
    }
   },
   "source": [
    "arr = np.arange(20)\n",
    "print(arr)\n",
    "print(arr[1::3])"
   ],
   "outputs": [
    {
     "name": "stdout",
     "output_type": "stream",
     "text": [
      "[ 0  1  2  3  4  5  6  7  8  9 10 11 12 13 14 15 16 17 18 19]\n",
      "[ 1  4  7 10 13 16 19]\n"
     ]
    }
   ],
   "execution_count": 2
  },
  {
   "cell_type": "code",
   "metadata": {
    "ExecuteTime": {
     "end_time": "2024-12-28T05:22:54.659516Z",
     "start_time": "2024-12-28T05:22:54.653346Z"
    }
   },
   "source": [
    "g = np.ones(9)\n",
    "print(g)\n",
    "print(np.atleast_2d(g))\n"
   ],
   "outputs": [
    {
     "name": "stdout",
     "output_type": "stream",
     "text": [
      "[1. 1. 1. 1. 1. 1. 1. 1. 1.]\n",
      "[[1. 1. 1. 1. 1. 1. 1. 1. 1.]]\n"
     ]
    }
   ],
   "execution_count": 3
  },
  {
   "cell_type": "markdown",
   "metadata": {},
   "source": [
    "NOTE: I can't seem to figure out why the build baseline array doesn't just subtract antenna positions. Ie. why the extra ant_1_array etc... "
   ]
  },
  {
   "cell_type": "code",
   "metadata": {
    "ExecuteTime": {
     "end_time": "2024-12-28T05:22:54.720633Z",
     "start_time": "2024-12-28T05:22:54.713149Z"
    }
   },
   "source": [
    "def build_baseline_array(\n",
    "    ant_1_array: np.ndarray,\n",
    "    ant_2_array: np.ndarray,\n",
    "    antpos: np.ndarray,\n",
    "    antnums: Sequence,\n",
    "):\n",
    "    \"\"\"Calculate all the baseline vectors for the provided parameters.\n",
    "\n",
    "    Parameters\n",
    "    ----------\n",
    "    ant_1_array\n",
    "        Array specifying the first antenna in each baseline.\n",
    "    ant_2_array\n",
    "        Array specifying the second antenna in each baseline.\n",
    "    antpos\n",
    "        Array with shape (Nants, 3) giving the ENU position, in meters, of\n",
    "        each antenna in the array.\n",
    "    antnums\n",
    "        Iterable giving the number of each antenna in the order that the terms\n",
    "        of ``antpos`` appear.\n",
    "\n",
    "    Returns\n",
    "    -------\n",
    "    baselines\n",
    "        Array with shape (Nbls, 3) giving all of the baselines for the provided\n",
    "        parameters. This is calculated using the convention that the baseline\n",
    "        is formed by subtracting the position of antenna 1 from the position of\n",
    "        antenna 2, i.e. :math:`b_{ij} = x_j - x_i`.\n",
    "    \"\"\"\n",
    "    ant_1_inds = np.zeros_like(ant_1_array)\n",
    "    ant_2_inds = np.zeros_like(ant_2_array)\n",
    "    for i, ant in enumerate(antnums):\n",
    "        ant_1_inds[ant_1_array == ant] = i\n",
    "        ant_2_inds[ant_2_array == ant] = i\n",
    "    return antpos[ant_2_inds] - antpos[ant_1_inds]"
   ],
   "outputs": [],
   "execution_count": 4
  },
  {
   "cell_type": "code",
   "metadata": {
    "ExecuteTime": {
     "end_time": "2024-12-28T05:22:54.859161Z",
     "start_time": "2024-12-28T05:22:54.853091Z"
    }
   },
   "source": [
    "ant1 = np.arange(10)[1:]\n",
    "ant2 = np.arange(10)[1:]\n",
    "print(ant1)"
   ],
   "outputs": [
    {
     "name": "stdout",
     "output_type": "stream",
     "text": [
      "[1 2 3 4 5 6 7 8 9]\n"
     ]
    }
   ],
   "execution_count": 5
  },
  {
   "cell_type": "code",
   "metadata": {
    "ExecuteTime": {
     "end_time": "2024-12-28T05:22:54.926616Z",
     "start_time": "2024-12-28T05:22:54.920191Z"
    }
   },
   "source": [
    "ar = np.array([1+1j, 2+2j])\n",
    "print(ar[:])\n",
    "print(ar.conj())"
   ],
   "outputs": [
    {
     "name": "stdout",
     "output_type": "stream",
     "text": [
      "[1.+1.j 2.+2.j]\n",
      "[1.-1.j 2.-2.j]\n"
     ]
    }
   ],
   "execution_count": 6
  },
  {
   "cell_type": "code",
   "metadata": {
    "ExecuteTime": {
     "end_time": "2024-12-28T05:22:54.990555Z",
     "start_time": "2024-12-28T05:22:54.983276Z"
    }
   },
   "source": [
    "test_ar = np.arange(4)\n",
    "new_ar = np.arange(8)[4:]\n",
    "print(test_ar)\n",
    "print(test_ar[:, None])\n",
    "print(new_ar)\n",
    "print()\n",
    "print(test_ar * new_ar)\n",
    "print(test_ar[:, None] * new_ar)"
   ],
   "outputs": [
    {
     "name": "stdout",
     "output_type": "stream",
     "text": [
      "[0 1 2 3]\n",
      "[[0]\n",
      " [1]\n",
      " [2]\n",
      " [3]]\n",
      "[4 5 6 7]\n",
      "\n",
      "[ 0  5 12 21]\n",
      "[[ 0  0  0  0]\n",
      " [ 4  5  6  7]\n",
      " [ 8 10 12 14]\n",
      " [12 15 18 21]]\n"
     ]
    }
   ],
   "execution_count": 7
  },
  {
   "cell_type": "code",
   "metadata": {
    "ExecuteTime": {
     "end_time": "2024-12-28T05:22:55.050804Z",
     "start_time": "2024-12-28T05:22:55.043288Z"
    }
   },
   "source": [
    "length = 6\n",
    "ant_1_array = np.arange(int(length/2))\n",
    "ant_2_array = np.arange(int(length / 2), int(length))\n",
    "print(ant_1_array)\n",
    "print(ant_2_array)\n",
    "\n",
    "\n",
    "gains = np.arange(1, 2* length + 1)\n",
    "c_gains = gains[::2] + 1j*gains[1::2]\n",
    "print(gains)\n",
    "print()\n",
    "print(c_gains)\n",
    "print(f\"cplex gains shape {c_gains.shape}\")\n"
   ],
   "outputs": [
    {
     "name": "stdout",
     "output_type": "stream",
     "text": [
      "[0 1 2]\n",
      "[3 4 5]\n",
      "[ 1  2  3  4  5  6  7  8  9 10 11 12]\n",
      "\n",
      "[ 1. +2.j  3. +4.j  5. +6.j  7. +8.j  9.+10.j 11.+12.j]\n",
      "cplex gains shape (6,)\n"
     ]
    }
   ],
   "execution_count": 8
  },
  {
   "cell_type": "code",
   "metadata": {
    "ExecuteTime": {
     "end_time": "2024-12-28T05:22:55.132876Z",
     "start_time": "2024-12-28T05:22:55.123229Z"
    }
   },
   "source": [
    "print(c_gains[ant_1_array, None])\n",
    "print()\n",
    "print(c_gains[ant_2_array, None])\n",
    "print()\n",
    "# print(c_gains[0, None] * c_gains[3].conj())\n",
    "\n",
    "# print(\n",
    "#     c_gains[ant_1_array, None] * c_gains[None, ant_1_array].conj() \n",
    "# )\n",
    "\n",
    "print()\n",
    "gain_mat = c_gains[ant_1_array, None] * c_gains[ant_2_array, None].conj() \n",
    "print(gain_mat)\n",
    "print(gain_mat.real)\n",
    "# print(gain_mat[1].imag)\n",
    "\n",
    "mat = np.random.rand(2*gain_mat.shape[0], 5) #only works like this for real imag split in the mat\n",
    "# print(mat)\n",
    "print(mat[::2])\n",
    "# print(mat[::2].shape)\n",
    "# print((gain_mat.imag.shape))\n",
    "out = np.zeros_like(mat)\n",
    "# print(out.shape)\n",
    "out[::2] = gain_mat.real * mat[::2] - gain_mat.imag * mat[1::2]\n",
    "out[1::2] = gain_mat.imag * mat[::2] + gain_mat.real * mat[1::2]\n",
    "print()\n",
    "# print(out)"
   ],
   "outputs": [
    {
     "name": "stdout",
     "output_type": "stream",
     "text": [
      "[[1.+2.j]\n",
      " [3.+4.j]\n",
      " [5.+6.j]]\n",
      "\n",
      "[[ 7. +8.j]\n",
      " [ 9.+10.j]\n",
      " [11.+12.j]]\n",
      "\n",
      "\n",
      "[[ 23.+6.j]\n",
      " [ 67.+6.j]\n",
      " [127.+6.j]]\n",
      "[[ 23.]\n",
      " [ 67.]\n",
      " [127.]]\n",
      "[[0.07454335 0.9153606  0.59025933 0.62333872 0.0911225 ]\n",
      " [0.09879935 0.96875437 0.40247346 0.05511296 0.63002055]\n",
      " [0.85412922 0.30292037 0.89860789 0.2364255  0.66098277]]\n",
      "\n"
     ]
    }
   ],
   "execution_count": 9
  },
  {
   "cell_type": "code",
   "metadata": {
    "ExecuteTime": {
     "end_time": "2024-12-28T05:22:55.200448Z",
     "start_time": "2024-12-28T05:22:55.192737Z"
    }
   },
   "source": [
    "print(np.diag(gain_mat))\n",
    "arr = np.arange(3)*10 + 1j*np.arange(3)*10\n",
    "print(np.diag(arr))"
   ],
   "outputs": [
    {
     "name": "stdout",
     "output_type": "stream",
     "text": [
      "[23.+6.j]\n",
      "[[ 0. +0.j  0. +0.j  0. +0.j]\n",
      " [ 0. +0.j 10.+10.j  0. +0.j]\n",
      " [ 0. +0.j  0. +0.j 20.+20.j]]\n"
     ]
    }
   ],
   "execution_count": 10
  },
  {
   "cell_type": "code",
   "metadata": {
    "ExecuteTime": {
     "end_time": "2024-12-28T05:22:55.258737Z",
     "start_time": "2024-12-28T05:22:55.253364Z"
    }
   },
   "source": [
    "num1 = 2 - 1j*3\n",
    "print(num1)\n",
    "print(num1.real)\n",
    "print(num1.imag)\n",
    "\n"
   ],
   "outputs": [
    {
     "name": "stdout",
     "output_type": "stream",
     "text": [
      "(2-3j)\n",
      "2.0\n",
      "-3.0\n"
     ]
    }
   ],
   "execution_count": 11
  },
  {
   "cell_type": "markdown",
   "metadata": {},
   "source": [
    "## CuPy speed tests w/ e-wise operations"
   ]
  },
  {
   "cell_type": "code",
   "metadata": {
    "ExecuteTime": {
     "end_time": "2024-12-28T05:22:55.328656Z",
     "start_time": "2024-12-28T05:22:55.323632Z"
    }
   },
   "source": [
    "import numpy as np\n",
    "import cupy as cp\n",
    "from cupyx.profiler import benchmark"
   ],
   "outputs": [],
   "execution_count": 12
  },
  {
   "cell_type": "code",
   "metadata": {
    "ExecuteTime": {
     "end_time": "2024-12-28T05:22:55.423192Z",
     "start_time": "2024-12-28T05:22:55.415744Z"
    }
   },
   "source": [
    "def init_appl_gains(length, xp):\n",
    "    ant_1_array = xp.arange(int(length/2))\n",
    "    ant_2_array = xp.arange(int(length / 2), int(length))\n",
    "\n",
    "    gains = xp.arange(1, 2* length + 1)\n",
    "    c_gains = gains[::2] + 1j*gains[1::2]\n",
    "\n",
    "    gain_mat = c_gains[ant_1_array, None] * c_gains[ant_2_array, None].conj() \n",
    "    return gain_mat\n",
    "\n",
    "def apply_gains(gain_mat, mat, xp):\n",
    "    out = xp.zeros_like(mat)\n",
    "    out[::2] = gain_mat.real * mat[::2] - gain_mat.imag * mat[1::2]\n",
    "    out[1::2] = gain_mat.imag * mat[::2] + gain_mat.real * mat[1::2]\n",
    "    return out"
   ],
   "outputs": [],
   "execution_count": 13
  },
  {
   "cell_type": "code",
   "metadata": {
    "ExecuteTime": {
     "end_time": "2024-12-28T05:22:56.023066Z",
     "start_time": "2024-12-28T05:22:55.499946Z"
    }
   },
   "source": [
    "length = 240000\n",
    "\n",
    "g_mat_np = init_appl_gains(length=length, xp=np)\n",
    "g_mat_cp = init_appl_gains(length=length, xp=cp)\n",
    "\n",
    "mat_np = np.random.rand(2*g_mat_np.shape[0], 5) #only works like this for real imag split in the mat\n",
    "mat_cp = cp.random.rand(2*g_mat_cp.shape[0], 5) #only works like this for real imag split in the mat\n",
    "\n",
    "prod = apply_gains(g_mat_cp, mat_cp, cp)\n",
    "print(type(g_mat_cp))"
   ],
   "outputs": [
    {
     "name": "stdout",
     "output_type": "stream",
     "text": [
      "<class 'cupy.ndarray'>\n"
     ]
    }
   ],
   "execution_count": 14
  },
  {
   "cell_type": "code",
   "metadata": {
    "ExecuteTime": {
     "end_time": "2024-12-28T05:22:58.076869Z",
     "start_time": "2024-12-28T05:22:56.064525Z"
    }
   },
   "source": [
    "print(benchmark(apply_gains, (g_mat_np, mat_np, np), n_repeat=100))\n",
    "print(benchmark(apply_gains, (g_mat_cp, mat_cp, cp), n_repeat=100))"
   ],
   "outputs": [
    {
     "name": "stdout",
     "output_type": "stream",
     "text": [
      "apply_gains         :    CPU: 17346.577 us   +/- 687.931 (min: 16147.364 / max: 19778.650) us     GPU-0: 17577.257 us   +/- 690.100 (min: 16400.640 / max: 19998.016) us\n",
      "apply_gains         :    CPU:   346.023 us   +/- 74.649 (min:   257.361 / max:   793.499) us     GPU-0:   374.671 us   +/- 82.453 (min:   275.456 / max:   822.272) us\n"
     ]
    }
   ],
   "execution_count": 15
  },
  {
   "cell_type": "markdown",
   "metadata": {},
   "source": [
    "Looks like this thing will run very fast compared to Numpy even just using CuPy..."
   ]
  },
  {
   "cell_type": "markdown",
   "metadata": {},
   "source": [
    "### Tests for ZP with complex"
   ]
  },
  {
   "cell_type": "code",
   "metadata": {
    "ExecuteTime": {
     "end_time": "2024-12-28T05:22:58.098423Z",
     "start_time": "2024-12-28T05:22:58.087648Z"
    }
   },
   "source": [
    "from utils import *\n",
    "from zp_puregpu_funcs_py import *"
   ],
   "outputs": [],
   "execution_count": 16
  },
  {
   "cell_type": "code",
   "metadata": {
    "ExecuteTime": {
     "end_time": "2024-12-28T05:22:58.267171Z",
     "start_time": "2024-12-28T05:22:58.149528Z"
    }
   },
   "source": [
    "#simulation params\n",
    "n_bl = 10\n",
    "n_ant = 2*n_bl\n",
    "n_gains = n_ant\n",
    "n_eig = 3\n",
    "xp = cp  #run things on the gpu using cupy\n",
    "\n",
    "#random array of edges for the diffuse matrix\n",
    "edges = xp.unique(xp.random.randint(1, n_bl-1, size = 4))\n",
    "edges = xp.concatenate((xp.array([0]), edges, xp.array([n_bl])))\n",
    "print(f\"The edges of the redundant blocks have indices{edges}\")\n",
    "\n",
    "\n",
    "a1 = cp.arange(1, n_bl)\n",
    "a2 = cp.arange(n_bl, n_ant-1)\n",
    "print(a1, a2)\n",
    "# gs = cp.arange(1, 9)\n",
    "gs = cp.random.rand(n_ant)\n",
    "\n",
    "re_gs = gs[::2]\n",
    "re_gs_a1 = re_gs[a1]\n",
    "re_gs_a2 = re_gs[a2]\n",
    "\n",
    "im_gs = gs[1::2]\n",
    "im_gs_a1 = im_gs[a1]\n",
    "im_gs_a2 = im_gs[a2]\n",
    "\n",
    "# cgs = gs[::2] + 1j*gs[1::2]\n",
    "# print(cgs)\n",
    "\n",
    "# g_mat = cgs[a1, None] * cgs[a2, None].conj()\n",
    "# print(g_mat)\n",
    "\n",
    "zp_re_gs_a1, _, _ = zeroPad(re_gs_a1, edges, cp)\n",
    "zp_im_gs_a1, _, _ = zeroPad(im_gs_a1, edges, cp)\n",
    "zp_re_gs_a2, _, _ = zeroPad(re_gs_a2, edges, cp)\n",
    "zp_im_gs_a2, _, _ = zeroPad(im_gs_a2, edges, cp)\n",
    "# print(zp_im_gs)\n",
    "\n",
    "zp_cgs_a1 = zp_re_gs_a1 + 1j*zp_im_gs_a1\n",
    "zp_cgs_a2 = zp_re_gs_a2 + 1j*zp_im_gs_a2\n",
    "\n",
    "zp_gain_mat = zp_cgs_a1[:, None] * zp_cgs_a2[:, None].conj()\n",
    "print(zp_gain_mat)\n"
   ],
   "outputs": [
    {
     "name": "stdout",
     "output_type": "stream",
     "text": [
      "The edges of the redundant blocks have indices[ 0  3  6 10]\n",
      "[1 2 3 4 5 6 7 8 9] [10 11 12 13 14 15 16 17 18]\n",
      "[[0.38478713-0.17950462j]\n",
      " [0.53904536-0.27586875j]\n",
      " [0.15381853+0.45043667j]\n",
      " [0.        +0.j        ]\n",
      " [0.09259806-0.25150266j]\n",
      " [0.44491776+0.11450927j]\n",
      " [0.42933116+0.60431882j]\n",
      " [0.        +0.j        ]\n",
      " [0.84201128-0.38773847j]\n",
      " [0.60534967+0.54298318j]\n",
      " [0.28780759-0.36192411j]\n",
      " [0.        -0.j        ]]\n"
     ]
    }
   ],
   "execution_count": 17
  },
  {
   "cell_type": "code",
   "metadata": {
    "ExecuteTime": {
     "end_time": "2024-12-28T05:22:58.307702Z",
     "start_time": "2024-12-28T05:22:58.304018Z"
    }
   },
   "source": [],
   "outputs": [],
   "execution_count": null
  },
  {
   "cell_type": "code",
   "metadata": {
    "ExecuteTime": {
     "end_time": "2024-12-28T05:22:58.361838Z",
     "start_time": "2024-12-28T05:22:58.357312Z"
    }
   },
   "source": [
    "ar1 = np.random.rand(20,20)\n",
    "# print(ar1)\n",
    "ar2 = np.random.rand(4,4)\n",
    "# print(ar2)\n",
    "# print(ar1*ar2)"
   ],
   "outputs": [],
   "execution_count": 18
  },
  {
   "cell_type": "markdown",
   "metadata": {},
   "source": [
    "### Some random experimentation to understand if the workbackward project will work"
   ]
  },
  {
   "cell_type": "code",
   "metadata": {
    "ExecuteTime": {
     "end_time": "2024-12-28T05:22:58.451482Z",
     "start_time": "2024-12-28T05:22:58.445512Z"
    }
   },
   "source": [
    "cov1 = np.cov(ar1)\n",
    "# cov2 = np.cov(ar1, ar2)\n",
    "# print(cov1)"
   ],
   "outputs": [],
   "execution_count": 19
  },
  {
   "cell_type": "code",
   "metadata": {
    "ExecuteTime": {
     "end_time": "2024-12-28T05:22:58.507036Z",
     "start_time": "2024-12-28T05:22:58.501026Z"
    }
   },
   "source": [
    "a = np.random.rand(10, 2)\n",
    "print(a)\n",
    "print()\n",
    "print(a[1])"
   ],
   "outputs": [
    {
     "name": "stdout",
     "output_type": "stream",
     "text": [
      "[[0.20633361 0.98990664]\n",
      " [0.23426119 0.76343904]\n",
      " [0.47123885 0.70279968]\n",
      " [0.68372477 0.37559268]\n",
      " [0.07208498 0.23816961]\n",
      " [0.30454095 0.55168101]\n",
      " [0.81122702 0.71546111]\n",
      " [0.32323771 0.44736118]\n",
      " [0.12006931 0.17445695]\n",
      " [0.03560664 0.51004632]]\n",
      "\n",
      "[0.23426119 0.76343904]\n"
     ]
    }
   ],
   "execution_count": 20
  },
  {
   "cell_type": "code",
   "metadata": {
    "ExecuteTime": {
     "end_time": "2024-12-28T05:22:59.234291Z",
     "start_time": "2024-12-28T05:22:58.666318Z"
    }
   },
   "source": [
    "import seaborn as sns\n",
    "\n",
    "sns.heatmap(cov1)"
   ],
   "outputs": [
    {
     "data": {
      "text/plain": [
       "<Axes: >"
      ]
     },
     "execution_count": 21,
     "metadata": {},
     "output_type": "execute_result"
    },
    {
     "data": {
      "text/plain": [
       "<Figure size 640x480 with 2 Axes>"
      ],
      "image/png": "[encoded data removed]"
     },
     "metadata": {},
     "output_type": "display_data"
    }
   ],
   "execution_count": 21
  },
  {
   "cell_type": "code",
   "metadata": {
    "ExecuteTime": {
     "end_time": "2024-12-28T22:30:18.438546Z",
     "start_time": "2024-12-28T22:30:18.432782Z"
    }
   },
   "source": [
    "print(\"hello world\")\n",
    "print(\"This is a test\")"
   ],
   "outputs": [
    {
     "name": "stdout",
     "output_type": "stream",
     "text": [
      "hello world\n",
      "This is a test\n"
     ]
    }
   ],
   "execution_count": 2
  },
  {
   "metadata": {
    "ExecuteTime": {
     "end_time": "2025-02-27T23:48:00.352321Z",
     "start_time": "2025-02-27T23:48:00.346123Z"
    }
   },
   "cell_type": "code",
   "source": [
    "import numpy as np\n",
    "a = np.arange(10)\n",
    "b = np.arange(10)\n",
    "\n",
    "c = a[:, None]*b[:, None]\n",
    "print(c)"
   ],
   "outputs": [
    {
     "name": "stdout",
     "output_type": "stream",
     "text": [
      "[[ 0]\n",
      " [ 1]\n",
      " [ 4]\n",
      " [ 9]\n",
      " [16]\n",
      " [25]\n",
      " [36]\n",
      " [49]\n",
      " [64]\n",
      " [81]]\n"
     ]
    }
   ],
   "execution_count": 4
  },
  {
   "metadata": {
    "ExecuteTime": {
     "end_time": "2025-02-27T23:48:51.058346Z",
     "start_time": "2025-02-27T23:48:51.053546Z"
    }
   },
   "cell_type": "code",
   "source": [
    "a = 20\n",
    "print(a//7)"
   ],
   "outputs": [
    {
     "name": "stdout",
     "output_type": "stream",
     "text": [
      "2\n"
     ]
    }
   ],
   "execution_count": 9
  }
 ],
 "metadata": {
  "kernelspec": {
   "display_name": "Python 3",
   "language": "python",
   "name": "python3"
  },
  "language_info": {
   "codemirror_mode": {
    "name": "ipython",
    "version": 3
   },
   "file_extension": ".py",
   "mimetype": "text/x-python",
   "name": "python",
   "nbconvert_exporter": "python",
   "pygments_lexer": "ipython3",
   "version": "3.10.12"
  }
 },
 "nbformat": 4,
 "nbformat_minor": 2
}
