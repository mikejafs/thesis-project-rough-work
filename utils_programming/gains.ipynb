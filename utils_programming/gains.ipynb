{
 "cells": [
  {
   "cell_type": "code",
   "execution_count": 2,
   "metadata": {},
   "outputs": [],
   "source": [
    "import numpy as np\n",
    "import cupy as cp\n",
    "from typing import Sequence"
   ]
  },
  {
   "cell_type": "code",
   "execution_count": 3,
   "metadata": {},
   "outputs": [
    {
     "name": "stdout",
     "output_type": "stream",
     "text": [
      "[ 0  1  2  3  4  5  6  7  8  9 10 11 12 13 14 15 16 17 18 19]\n",
      "[ 1  4  7 10 13 16 19]\n"
     ]
    }
   ],
   "source": [
    "arr = np.arange(20)\n",
    "print(arr)\n",
    "print(arr[1::3])"
   ]
  },
  {
   "cell_type": "code",
   "execution_count": 4,
   "metadata": {},
   "outputs": [
    {
     "name": "stdout",
     "output_type": "stream",
     "text": [
      "[1. 1. 1. 1. 1. 1. 1. 1. 1.]\n",
      "[[1. 1. 1. 1. 1. 1. 1. 1. 1.]]\n"
     ]
    }
   ],
   "source": [
    "g = np.ones(9)\n",
    "print(g)\n",
    "print(np.atleast_2d(g))\n"
   ]
  },
  {
   "cell_type": "markdown",
   "metadata": {},
   "source": [
    "NOTE: I can't seem to figure out why the build baseline array doesn't just subtract antenna positions. Ie. why the extra ant_1_array etc... "
   ]
  },
  {
   "cell_type": "code",
   "execution_count": 5,
   "metadata": {},
   "outputs": [],
   "source": [
    "def build_baseline_array(\n",
    "    ant_1_array: np.ndarray,\n",
    "    ant_2_array: np.ndarray,\n",
    "    antpos: np.ndarray,\n",
    "    antnums: Sequence,\n",
    "):\n",
    "    \"\"\"Calculate all the baseline vectors for the provided parameters.\n",
    "\n",
    "    Parameters\n",
    "    ----------\n",
    "    ant_1_array\n",
    "        Array specifying the first antenna in each baseline.\n",
    "    ant_2_array\n",
    "        Array specifying the second antenna in each baseline.\n",
    "    antpos\n",
    "        Array with shape (Nants, 3) giving the ENU position, in meters, of\n",
    "        each antenna in the array.\n",
    "    antnums\n",
    "        Iterable giving the number of each antenna in the order that the terms\n",
    "        of ``antpos`` appear.\n",
    "\n",
    "    Returns\n",
    "    -------\n",
    "    baselines\n",
    "        Array with shape (Nbls, 3) giving all of the baselines for the provided\n",
    "        parameters. This is calculated using the convention that the baseline\n",
    "        is formed by subtracting the position of antenna 1 from the position of\n",
    "        antenna 2, i.e. :math:`b_{ij} = x_j - x_i`.\n",
    "    \"\"\"\n",
    "    ant_1_inds = np.zeros_like(ant_1_array)\n",
    "    ant_2_inds = np.zeros_like(ant_2_array)\n",
    "    for i, ant in enumerate(antnums):\n",
    "        ant_1_inds[ant_1_array == ant] = i\n",
    "        ant_2_inds[ant_2_array == ant] = i\n",
    "    return antpos[ant_2_inds] - antpos[ant_1_inds]"
   ]
  },
  {
   "cell_type": "code",
   "execution_count": 6,
   "metadata": {},
   "outputs": [
    {
     "name": "stdout",
     "output_type": "stream",
     "text": [
      "[1 2 3 4 5 6 7 8 9]\n"
     ]
    }
   ],
   "source": [
    "ant1 = np.arange(10)[1:]\n",
    "ant2 = np.arange(10)[1:]\n",
    "print(ant1)"
   ]
  },
  {
   "cell_type": "code",
   "execution_count": 7,
   "metadata": {},
   "outputs": [
    {
     "name": "stdout",
     "output_type": "stream",
     "text": [
      "[1.+1.j 2.+2.j]\n",
      "[1.-1.j 2.-2.j]\n"
     ]
    }
   ],
   "source": [
    "ar = np.array([1+1j, 2+2j])\n",
    "print(ar[:])\n",
    "print(ar.conj())"
   ]
  },
  {
   "cell_type": "code",
   "execution_count": 8,
   "metadata": {},
   "outputs": [
    {
     "name": "stdout",
     "output_type": "stream",
     "text": [
      "[0 1 2 3]\n",
      "[[0]\n",
      " [1]\n",
      " [2]\n",
      " [3]]\n",
      "[4 5 6 7]\n",
      "\n",
      "[ 0  5 12 21]\n",
      "[[ 0  0  0  0]\n",
      " [ 4  5  6  7]\n",
      " [ 8 10 12 14]\n",
      " [12 15 18 21]]\n"
     ]
    }
   ],
   "source": [
    "test_ar = np.arange(4)\n",
    "new_ar = np.arange(8)[4:]\n",
    "print(test_ar)\n",
    "print(test_ar[:, None])\n",
    "print(new_ar)\n",
    "print()\n",
    "print(test_ar * new_ar)\n",
    "print(test_ar[:, None] * new_ar)"
   ]
  },
  {
   "cell_type": "code",
   "execution_count": 42,
   "metadata": {},
   "outputs": [
    {
     "name": "stdout",
     "output_type": "stream",
     "text": [
      "[0 1 2]\n",
      "[3 4 5]\n",
      "[ 1  2  3  4  5  6  7  8  9 10 11 12]\n",
      "\n",
      "[ 1. +2.j  3. +4.j  5. +6.j  7. +8.j  9.+10.j 11.+12.j]\n",
      "cplex gains shape (6,)\n"
     ]
    }
   ],
   "source": [
    "length = 6\n",
    "ant_1_array = np.arange(int(length/2))\n",
    "ant_2_array = np.arange(int(length / 2), int(length))\n",
    "print(ant_1_array)\n",
    "print(ant_2_array)\n",
    "\n",
    "\n",
    "gains = np.arange(1, 2* length + 1)\n",
    "c_gains = gains[::2] + 1j*gains[1::2]\n",
    "print(gains)\n",
    "print()\n",
    "print(c_gains)\n",
    "print(f\"cplex gains shape {c_gains.shape}\")\n"
   ]
  },
  {
   "cell_type": "code",
   "execution_count": 65,
   "metadata": {},
   "outputs": [
    {
     "name": "stdout",
     "output_type": "stream",
     "text": [
      "[[1.+2.j]\n",
      " [3.+4.j]\n",
      " [5.+6.j]]\n",
      "\n",
      "[[ 7. +8.j]\n",
      " [ 9.+10.j]\n",
      " [11.+12.j]]\n",
      "\n",
      "\n",
      "[[ 23.+6.j]\n",
      " [ 67.+6.j]\n",
      " [127.+6.j]]\n",
      "[[ 23.]\n",
      " [ 67.]\n",
      " [127.]]\n",
      "[[0.08480215 0.03526976 0.31378171 0.09304107 0.09177772]\n",
      " [0.88807687 0.87007665 0.17689332 0.15748431 0.52981749]\n",
      " [0.53402384 0.01837452 0.47204172 0.4472067  0.07561754]]\n",
      "\n"
     ]
    }
   ],
   "source": [
    "print(c_gains[ant_1_array, None])\n",
    "print()\n",
    "print(c_gains[ant_2_array, None])\n",
    "print()\n",
    "# print(c_gains[0, None] * c_gains[3].conj())\n",
    "\n",
    "# print(\n",
    "#     c_gains[ant_1_array, None] * c_gains[None, ant_1_array].conj() \n",
    "# )\n",
    "\n",
    "print()\n",
    "gain_mat = c_gains[ant_1_array, None] * c_gains[ant_2_array, None].conj() \n",
    "print(gain_mat)\n",
    "print(gain_mat.real)\n",
    "# print(gain_mat[1].imag)\n",
    "\n",
    "mat = np.random.rand(2*gain_mat.shape[0], 5) #only works like this for real imag split in the mat\n",
    "# print(mat)\n",
    "print(mat[::2])\n",
    "# print(mat[::2].shape)\n",
    "# print((gain_mat.imag.shape))\n",
    "out = np.zeros_like(mat)\n",
    "# print(out.shape)\n",
    "out[::2] = gain_mat.real * mat[::2] - gain_mat.imag * mat[1::2]\n",
    "out[1::2] = gain_mat.imag * mat[::2] + gain_mat.real * mat[1::2]\n",
    "print()\n",
    "# print(out)"
   ]
  },
  {
   "cell_type": "code",
   "execution_count": 11,
   "metadata": {},
   "outputs": [
    {
     "name": "stdout",
     "output_type": "stream",
     "text": [
      "[5.+0.j]\n",
      "[[ 0. +0.j  0. +0.j  0. +0.j]\n",
      " [ 0. +0.j 10.+10.j  0. +0.j]\n",
      " [ 0. +0.j  0. +0.j 20.+20.j]]\n"
     ]
    }
   ],
   "source": [
    "print(np.diag(gain_mat))\n",
    "arr = np.arange(3)*10 + 1j*np.arange(3)*10\n",
    "print(np.diag(arr))"
   ]
  },
  {
   "cell_type": "code",
   "execution_count": 12,
   "metadata": {},
   "outputs": [
    {
     "name": "stdout",
     "output_type": "stream",
     "text": [
      "(2-3j)\n",
      "2.0\n",
      "-3.0\n"
     ]
    }
   ],
   "source": [
    "num1 = 2 - 1j*3\n",
    "print(num1)\n",
    "print(num1.real)\n",
    "print(num1.imag)\n",
    "\n"
   ]
  },
  {
   "cell_type": "markdown",
   "metadata": {},
   "source": [
    "## CuPy speed tests w/ e-wise operations"
   ]
  },
  {
   "cell_type": "code",
   "execution_count": 1,
   "metadata": {},
   "outputs": [],
   "source": [
    "import numpy as np\n",
    "import cupy as cp\n",
    "from cupyx.profiler import benchmark"
   ]
  },
  {
   "cell_type": "code",
   "execution_count": 2,
   "metadata": {},
   "outputs": [],
   "source": [
    "def init_appl_gains(length, xp):\n",
    "    ant_1_array = xp.arange(int(length/2))\n",
    "    ant_2_array = xp.arange(int(length / 2), int(length))\n",
    "\n",
    "    gains = xp.arange(1, 2* length + 1)\n",
    "    c_gains = gains[::2] + 1j*gains[1::2]\n",
    "\n",
    "    gain_mat = c_gains[ant_1_array, None] * c_gains[ant_2_array, None].conj() \n",
    "    return gain_mat\n",
    "\n",
    "def apply_gains(gain_mat, mat, xp):\n",
    "    out = xp.zeros_like(mat)\n",
    "    out[::2] = gain_mat.real * mat[::2] - gain_mat.imag * mat[1::2]\n",
    "    out[1::2] = gain_mat.imag * mat[::2] + gain_mat.real * mat[1::2]\n",
    "    return out"
   ]
  },
  {
   "cell_type": "code",
   "execution_count": 19,
   "metadata": {},
   "outputs": [
    {
     "name": "stdout",
     "output_type": "stream",
     "text": [
      "<class 'cupy.ndarray'>\n"
     ]
    }
   ],
   "source": [
    "length = 240000\n",
    "\n",
    "g_mat_np = init_appl_gains(length=length, xp=np)\n",
    "g_mat_cp = init_appl_gains(length=length, xp=cp)\n",
    "\n",
    "mat_np = np.random.rand(2*g_mat_np.shape[0], 5) #only works like this for real imag split in the mat\n",
    "mat_cp = cp.random.rand(2*g_mat_cp.shape[0], 5) #only works like this for real imag split in the mat\n",
    "\n",
    "prod = apply_gains(g_mat_cp, mat_cp, cp)\n",
    "print(type(g_mat_cp))"
   ]
  },
  {
   "cell_type": "code",
   "execution_count": 20,
   "metadata": {},
   "outputs": [
    {
     "name": "stdout",
     "output_type": "stream",
     "text": [
      "apply_gains         :    CPU: 18208.165 us   +/- 1054.640 (min: 16349.371 / max: 21227.048) us     GPU-0: 18459.576 us   +/- 1054.851 (min: 16491.520 / max: 21554.176) us\n",
      "apply_gains         :    CPU:   372.121 us   +/- 115.412 (min:   298.722 / max:  1157.117) us     GPU-0:   441.128 us   +/- 149.142 (min:   275.456 / max:  1214.464) us\n"
     ]
    }
   ],
   "source": [
    "print(benchmark(apply_gains, (g_mat_np, mat_np, np), n_repeat=100))\n",
    "print(benchmark(apply_gains, (g_mat_cp, mat_cp, cp), n_repeat=100))"
   ]
  },
  {
   "cell_type": "markdown",
   "metadata": {},
   "source": [
    "Looks like this thing will run very fast compared to Numpy even just using CuPy..."
   ]
  },
  {
   "cell_type": "code",
   "execution_count": 13,
   "metadata": {},
   "outputs": [],
   "source": [
    "ar1 = np.random.rand(20,20)\n",
    "# print(ar1)\n",
    "ar2 = np.random.rand(4,4)\n",
    "# print(ar2)\n",
    "# print(ar1*ar2)"
   ]
  },
  {
   "cell_type": "markdown",
   "metadata": {},
   "source": [
    "### Some random experimentation to understand if the workbackward project will work"
   ]
  },
  {
   "cell_type": "code",
   "execution_count": 14,
   "metadata": {},
   "outputs": [],
   "source": [
    "cov1 = np.cov(ar1)\n",
    "# cov2 = np.cov(ar1, ar2)\n",
    "# print(cov1)"
   ]
  },
  {
   "cell_type": "code",
   "execution_count": 15,
   "metadata": {},
   "outputs": [
    {
     "name": "stdout",
     "output_type": "stream",
     "text": [
      "[[0.92681625 0.33899951]\n",
      " [0.26088208 0.53749064]\n",
      " [0.25923405 0.945665  ]\n",
      " [0.50121384 0.37628885]\n",
      " [0.21497286 0.43548106]\n",
      " [0.16171353 0.26152332]\n",
      " [0.34070788 0.3608678 ]\n",
      " [0.43179769 0.95855722]\n",
      " [0.76822189 0.64531423]\n",
      " [0.65925566 0.90883471]]\n",
      "\n",
      "[0.26088208 0.53749064]\n"
     ]
    }
   ],
   "source": [
    "a = np.random.rand(10, 2)\n",
    "print(a)\n",
    "print()\n",
    "print(a[1])"
   ]
  },
  {
   "cell_type": "code",
   "execution_count": 16,
   "metadata": {},
   "outputs": [
    {
     "data": {
      "text/plain": [
       "<Axes: >"
      ]
     },
     "execution_count": 16,
     "metadata": {},
     "output_type": "execute_result"
    },
    {
     "data": {
      "image/png": "[encoded data removed]",
      "text/plain": [
       "<Figure size 640x480 with 2 Axes>"
      ]
     },
     "metadata": {},
     "output_type": "display_data"
    }
   ],
   "source": [
    "import seaborn as sns\n",
    "\n",
    "sns.heatmap(cov1)"
   ]
  },
  {
   "cell_type": "code",
   "execution_count": null,
   "metadata": {},
   "outputs": [],
   "source": []
  }
 ],
 "metadata": {
  "kernelspec": {
   "display_name": "Python 3",
   "language": "python",
   "name": "python3"
  },
  "language_info": {
   "codemirror_mode": {
    "name": "ipython",
    "version": 3
   },
   "file_extension": ".py",
   "mimetype": "text/x-python",
   "name": "python",
   "nbconvert_exporter": "python",
   "pygments_lexer": "ipython3",
   "version": "3.10.12"
  }
 },
 "nbformat": 4,
 "nbformat_minor": 2
}
