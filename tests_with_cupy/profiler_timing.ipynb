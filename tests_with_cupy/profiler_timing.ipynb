{
 "cells": [
  {
   "cell_type": "markdown",
   "metadata": {},
   "source": [
    "#### Understanding Cupy Benchmark Output"
   ]
  },
  {
   "cell_type": "markdown",
   "metadata": {},
   "source": [
    "##### The cupyx.profiler benchmark function returns a set of results that has been hard to interpret"
   ]
  },
  {
   "cell_type": "markdown",
   "metadata": {},
   "source": [
    "One of the strange things was that for purely cpu code, there was still a significant gpu time recorded. Since the profiler launches a bunch of timers, this introduces overhead which may cause gpu run time. Additionally, it could be that since these streams are launched no matter what, the pgu side of things just ends up reading the wall time, though this is slightly speculation."
   ]
  },
  {
   "cell_type": "code",
   "execution_count": 2,
   "metadata": {},
   "outputs": [
    {
     "name": "stdout",
     "output_type": "stream",
     "text": [
      "cpu_only_function   :    CPU: 565732.211 us   +/- 5123.515 (min: 555956.082 / max: 571088.465) us     GPU-0: 568237.463 us   +/- 5949.332 (min: 556679.138 / max: 572936.218) us\n"
     ]
    }
   ],
   "source": [
    "import cupy as cp\n",
    "from cupyx.profiler import benchmark\n",
    "import time\n",
    "\n",
    "def cpu_only_function():\n",
    "    # Pure CPU-bound computation\n",
    "    total = 0\n",
    "    for i in range(10000000):\n",
    "        total += i\n",
    "    time.sleep(0.1)  # Simulate a delay\n",
    "    return total\n",
    "\n",
    "# Benchmark the CPU-only function\n",
    "result = benchmark(cpu_only_function, n_repeat=5)\n",
    "# print(f\"CPU time: {result.cpu_time:.6f} sec\")\n",
    "# print(f\"GPU time: {result.gpu_time:.6f} sec\")\n",
    "print(result)\n"
   ]
  },
  {
   "cell_type": "markdown",
   "metadata": {},
   "source": [
    "One of the weirder things has been tryng to diagnose why the cpu and gpu times are so similar in a number of functions I've been timing. If we think carefully about what the profiler is doing, it may make sense that the times are the same in many cases. Since the cpu time is the total time spent on the cpu, and the gpu time is simply the total time spent durinig which the gpu carried out the computations, the times will differ, unless \n",
    "\n",
    "1. there is significant cpu overhead for somereason, leading to a similar time for the cpu as the gpu by coincidence\n",
    "2. the cpu fundamentally needs to wait for the gpu to finish before performing the next task.\n",
    "\n",
    "In the cell below, we can synchronize the streams so that the cpu waits for the gpu to finish. Conversely, we can also transfer the data back to the cpu, causing the cpu and gpu times to be highly similar."
   ]
  },
  {
   "cell_type": "code",
   "execution_count": 12,
   "metadata": {},
   "outputs": [
    {
     "name": "stdout",
     "output_type": "stream",
     "text": [
      "gpu_computation     :    CPU:  9149.740 us   +/- 1672.919 (min:  7143.983 / max: 14415.904) us     GPU-0:  9283.625 us   +/- 1690.653 (min:  7132.160 / max: 15376.384) us\n"
     ]
    }
   ],
   "source": [
    "import cupy as cp\n",
    "from cupyx.profiler import benchmark\n",
    "\n",
    "# Define a simple GPU computation\n",
    "def gpu_computation():\n",
    "    x = cp.random.rand(1000, 1000)\n",
    "    y = cp.dot(x, x)\n",
    "    cp.cuda.Stream.null.synchronize()\n",
    "    # y = cp.asnumpy(y)\n",
    "    return y\n",
    "\n",
    "\n",
    "# Benchmark the computation\n",
    "result = benchmark(gpu_computation, n_repeat=100)\n",
    "# print(f\"CPU time: {result.cpu_time:.6f} sec\")\n",
    "# print(f\"GPU time: {result.gpu_time:.6f} sec\")\n",
    "\n",
    "\n",
    "print(result)"
   ]
  },
  {
   "cell_type": "code",
   "execution_count": null,
   "metadata": {},
   "outputs": [],
   "source": []
  }
 ],
 "metadata": {
  "kernelspec": {
   "display_name": "Python 3",
   "language": "python",
   "name": "python3"
  },
  "language_info": {
   "codemirror_mode": {
    "name": "ipython",
    "version": 3
   },
   "file_extension": ".py",
   "mimetype": "text/x-python",
   "name": "python",
   "nbconvert_exporter": "python",
   "pygments_lexer": "ipython3",
   "version": "3.10.12"
  }
 },
 "nbformat": 4,
 "nbformat_minor": 2
}
